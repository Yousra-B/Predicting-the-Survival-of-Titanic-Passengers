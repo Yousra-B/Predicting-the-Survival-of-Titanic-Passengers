{
 "cells": [
  {
   "cell_type": "code",
   "execution_count": 1,
   "metadata": {
    "_cell_guid": "b1076dfc-b9ad-4769-8c92-a6c4dae69d19",
    "_uuid": "8f2839f25d086af736a60e9eeb907d3b93b6e0e5",
    "execution": {
     "iopub.execute_input": "2021-04-22T15:39:44.392039Z",
     "iopub.status.busy": "2021-04-22T15:39:44.391421Z",
     "iopub.status.idle": "2021-04-22T15:39:44.396599Z",
     "shell.execute_reply": "2021-04-22T15:39:44.396083Z"
    },
    "papermill": {
     "duration": 0.060387,
     "end_time": "2021-04-22T15:39:44.396735",
     "exception": false,
     "start_time": "2021-04-22T15:39:44.336348",
     "status": "completed"
    },
    "tags": []
   },
   "outputs": [
    {
     "name": "stdout",
     "output_type": "stream",
     "text": [
      "/kaggle/input/titanic/train.csv\n",
      "/kaggle/input/titanic/test.csv\n",
      "/kaggle/input/titanic/gender_submission.csv\n"
     ]
    }
   ],
   "source": [
    "# This Python 3 environment comes with many helpful analytics libraries installed\n",
    "# It is defined by the kaggle/python Docker image: https://github.com/kaggle/docker-python\n",
    "# For example, here's several helpful packages to load\n",
    "\n",
    "import numpy as np # linear algebra\n",
    "import pandas as pd # data processing, CSV file I/O (e.g. pd.read_csv)\n",
    "\n",
    "# Input data files are available in the read-only \"../input/\" directory\n",
    "# For example, running this (by clicking run or pressing Shift+Enter) will list all files under the input directory\n",
    "\n",
    "import os\n",
    "for dirname, _, filenames in os.walk('/kaggle/input'):\n",
    "    for filename in filenames:\n",
    "        print(os.path.join(dirname, filename))\n",
    "\n",
    "# You can write up to 20GB to the current directory (/kaggle/working/) that gets preserved as output when you create a version using \"Save & Run All\" \n",
    "# You can also write temporary files to /kaggle/temp/, but they won't be saved outside of the current session"
   ]
  },
  {
   "cell_type": "code",
   "execution_count": 2,
   "metadata": {
    "execution": {
     "iopub.execute_input": "2021-04-22T15:39:44.496578Z",
     "iopub.status.busy": "2021-04-22T15:39:44.495906Z",
     "iopub.status.idle": "2021-04-22T15:39:44.537674Z",
     "shell.execute_reply": "2021-04-22T15:39:44.538215Z"
    },
    "papermill": {
     "duration": 0.094635,
     "end_time": "2021-04-22T15:39:44.538379",
     "exception": false,
     "start_time": "2021-04-22T15:39:44.443744",
     "status": "completed"
    },
    "tags": []
   },
   "outputs": [
    {
     "data": {
      "text/plain": [
       "Index(['PassengerId', 'Survived', 'Pclass', 'Name', 'Sex', 'Age', 'SibSp',\n",
       "       'Parch', 'Ticket', 'Fare', 'Cabin', 'Embarked', 'train_test'],\n",
       "      dtype='object')"
      ]
     },
     "execution_count": 2,
     "metadata": {},
     "output_type": "execute_result"
    }
   ],
   "source": [
    "training = pd.read_csv('/kaggle/input/titanic/train.csv')\n",
    "test = pd.read_csv('/kaggle/input/titanic/test.csv')\n",
    "training['train_test'] = 1\n",
    "test['train_test'] = 0\n",
    "test['Survived'] = np.NaN\n",
    "all_data = pd.concat([training,test])\n",
    "\n",
    "%matplotlib inline\n",
    "all_data.columns"
   ]
  },
  {
   "cell_type": "markdown",
   "metadata": {
    "papermill": {
     "duration": 0.046779,
     "end_time": "2021-04-22T15:39:44.631765",
     "exception": false,
     "start_time": "2021-04-22T15:39:44.584986",
     "status": "completed"
    },
    "tags": []
   },
   "source": [
    "#  Data Exploration \n",
    "First of all, let's have a quick look at our data types and null values :"
   ]
  },
  {
   "cell_type": "code",
   "execution_count": 3,
   "metadata": {
    "execution": {
     "iopub.execute_input": "2021-04-22T15:39:44.728995Z",
     "iopub.status.busy": "2021-04-22T15:39:44.728125Z",
     "iopub.status.idle": "2021-04-22T15:39:44.748836Z",
     "shell.execute_reply": "2021-04-22T15:39:44.748390Z"
    },
    "papermill": {
     "duration": 0.070498,
     "end_time": "2021-04-22T15:39:44.748983",
     "exception": false,
     "start_time": "2021-04-22T15:39:44.678485",
     "status": "completed"
    },
    "tags": []
   },
   "outputs": [
    {
     "name": "stdout",
     "output_type": "stream",
     "text": [
      "<class 'pandas.core.frame.DataFrame'>\n",
      "RangeIndex: 891 entries, 0 to 890\n",
      "Data columns (total 13 columns):\n",
      " #   Column       Non-Null Count  Dtype  \n",
      "---  ------       --------------  -----  \n",
      " 0   PassengerId  891 non-null    int64  \n",
      " 1   Survived     891 non-null    int64  \n",
      " 2   Pclass       891 non-null    int64  \n",
      " 3   Name         891 non-null    object \n",
      " 4   Sex          891 non-null    object \n",
      " 5   Age          714 non-null    float64\n",
      " 6   SibSp        891 non-null    int64  \n",
      " 7   Parch        891 non-null    int64  \n",
      " 8   Ticket       891 non-null    object \n",
      " 9   Fare         891 non-null    float64\n",
      " 10  Cabin        204 non-null    object \n",
      " 11  Embarked     889 non-null    object \n",
      " 12  train_test   891 non-null    int64  \n",
      "dtypes: float64(2), int64(6), object(5)\n",
      "memory usage: 90.6+ KB\n"
     ]
    }
   ],
   "source": [
    "training.info()"
   ]
  },
  {
   "cell_type": "markdown",
   "metadata": {
    "papermill": {
     "duration": 0.04679,
     "end_time": "2021-04-22T15:39:44.842573",
     "exception": false,
     "start_time": "2021-04-22T15:39:44.795783",
     "status": "completed"
    },
    "tags": []
   },
   "source": [
    "We want to better understand our numeric data, we will use the function .describe(). It will give us a better understanding of the central tendencies of the data."
   ]
  },
  {
   "cell_type": "code",
   "execution_count": 4,
   "metadata": {
    "execution": {
     "iopub.execute_input": "2021-04-22T15:39:44.945979Z",
     "iopub.status.busy": "2021-04-22T15:39:44.945398Z",
     "iopub.status.idle": "2021-04-22T15:39:44.976499Z",
     "shell.execute_reply": "2021-04-22T15:39:44.976917Z"
    },
    "papermill": {
     "duration": 0.087282,
     "end_time": "2021-04-22T15:39:44.977109",
     "exception": false,
     "start_time": "2021-04-22T15:39:44.889827",
     "status": "completed"
    },
    "tags": []
   },
   "outputs": [
    {
     "data": {
      "text/html": [
       "<div>\n",
       "<style scoped>\n",
       "    .dataframe tbody tr th:only-of-type {\n",
       "        vertical-align: middle;\n",
       "    }\n",
       "\n",
       "    .dataframe tbody tr th {\n",
       "        vertical-align: top;\n",
       "    }\n",
       "\n",
       "    .dataframe thead th {\n",
       "        text-align: right;\n",
       "    }\n",
       "</style>\n",
       "<table border=\"1\" class=\"dataframe\">\n",
       "  <thead>\n",
       "    <tr style=\"text-align: right;\">\n",
       "      <th></th>\n",
       "      <th>PassengerId</th>\n",
       "      <th>Survived</th>\n",
       "      <th>Pclass</th>\n",
       "      <th>Age</th>\n",
       "      <th>SibSp</th>\n",
       "      <th>Parch</th>\n",
       "      <th>Fare</th>\n",
       "      <th>train_test</th>\n",
       "    </tr>\n",
       "  </thead>\n",
       "  <tbody>\n",
       "    <tr>\n",
       "      <th>count</th>\n",
       "      <td>891.000000</td>\n",
       "      <td>891.000000</td>\n",
       "      <td>891.000000</td>\n",
       "      <td>714.000000</td>\n",
       "      <td>891.000000</td>\n",
       "      <td>891.000000</td>\n",
       "      <td>891.000000</td>\n",
       "      <td>891.0</td>\n",
       "    </tr>\n",
       "    <tr>\n",
       "      <th>mean</th>\n",
       "      <td>446.000000</td>\n",
       "      <td>0.383838</td>\n",
       "      <td>2.308642</td>\n",
       "      <td>29.699118</td>\n",
       "      <td>0.523008</td>\n",
       "      <td>0.381594</td>\n",
       "      <td>32.204208</td>\n",
       "      <td>1.0</td>\n",
       "    </tr>\n",
       "    <tr>\n",
       "      <th>std</th>\n",
       "      <td>257.353842</td>\n",
       "      <td>0.486592</td>\n",
       "      <td>0.836071</td>\n",
       "      <td>14.526497</td>\n",
       "      <td>1.102743</td>\n",
       "      <td>0.806057</td>\n",
       "      <td>49.693429</td>\n",
       "      <td>0.0</td>\n",
       "    </tr>\n",
       "    <tr>\n",
       "      <th>min</th>\n",
       "      <td>1.000000</td>\n",
       "      <td>0.000000</td>\n",
       "      <td>1.000000</td>\n",
       "      <td>0.420000</td>\n",
       "      <td>0.000000</td>\n",
       "      <td>0.000000</td>\n",
       "      <td>0.000000</td>\n",
       "      <td>1.0</td>\n",
       "    </tr>\n",
       "    <tr>\n",
       "      <th>25%</th>\n",
       "      <td>223.500000</td>\n",
       "      <td>0.000000</td>\n",
       "      <td>2.000000</td>\n",
       "      <td>20.125000</td>\n",
       "      <td>0.000000</td>\n",
       "      <td>0.000000</td>\n",
       "      <td>7.910400</td>\n",
       "      <td>1.0</td>\n",
       "    </tr>\n",
       "    <tr>\n",
       "      <th>50%</th>\n",
       "      <td>446.000000</td>\n",
       "      <td>0.000000</td>\n",
       "      <td>3.000000</td>\n",
       "      <td>28.000000</td>\n",
       "      <td>0.000000</td>\n",
       "      <td>0.000000</td>\n",
       "      <td>14.454200</td>\n",
       "      <td>1.0</td>\n",
       "    </tr>\n",
       "    <tr>\n",
       "      <th>75%</th>\n",
       "      <td>668.500000</td>\n",
       "      <td>1.000000</td>\n",
       "      <td>3.000000</td>\n",
       "      <td>38.000000</td>\n",
       "      <td>1.000000</td>\n",
       "      <td>0.000000</td>\n",
       "      <td>31.000000</td>\n",
       "      <td>1.0</td>\n",
       "    </tr>\n",
       "    <tr>\n",
       "      <th>max</th>\n",
       "      <td>891.000000</td>\n",
       "      <td>1.000000</td>\n",
       "      <td>3.000000</td>\n",
       "      <td>80.000000</td>\n",
       "      <td>8.000000</td>\n",
       "      <td>6.000000</td>\n",
       "      <td>512.329200</td>\n",
       "      <td>1.0</td>\n",
       "    </tr>\n",
       "  </tbody>\n",
       "</table>\n",
       "</div>"
      ],
      "text/plain": [
       "       PassengerId    Survived      Pclass         Age       SibSp  \\\n",
       "count   891.000000  891.000000  891.000000  714.000000  891.000000   \n",
       "mean    446.000000    0.383838    2.308642   29.699118    0.523008   \n",
       "std     257.353842    0.486592    0.836071   14.526497    1.102743   \n",
       "min       1.000000    0.000000    1.000000    0.420000    0.000000   \n",
       "25%     223.500000    0.000000    2.000000   20.125000    0.000000   \n",
       "50%     446.000000    0.000000    3.000000   28.000000    0.000000   \n",
       "75%     668.500000    1.000000    3.000000   38.000000    1.000000   \n",
       "max     891.000000    1.000000    3.000000   80.000000    8.000000   \n",
       "\n",
       "            Parch        Fare  train_test  \n",
       "count  891.000000  891.000000       891.0  \n",
       "mean     0.381594   32.204208         1.0  \n",
       "std      0.806057   49.693429         0.0  \n",
       "min      0.000000    0.000000         1.0  \n",
       "25%      0.000000    7.910400         1.0  \n",
       "50%      0.000000   14.454200         1.0  \n",
       "75%      0.000000   31.000000         1.0  \n",
       "max      6.000000  512.329200         1.0  "
      ]
     },
     "execution_count": 4,
     "metadata": {},
     "output_type": "execute_result"
    }
   ],
   "source": [
    "training.describe()"
   ]
  },
  {
   "cell_type": "code",
   "execution_count": 5,
   "metadata": {
    "execution": {
     "iopub.execute_input": "2021-04-22T15:39:45.081780Z",
     "iopub.status.busy": "2021-04-22T15:39:45.081221Z",
     "iopub.status.idle": "2021-04-22T15:39:45.097944Z",
     "shell.execute_reply": "2021-04-22T15:39:45.098453Z"
    },
    "papermill": {
     "duration": 0.072237,
     "end_time": "2021-04-22T15:39:45.098600",
     "exception": false,
     "start_time": "2021-04-22T15:39:45.026363",
     "status": "completed"
    },
    "tags": []
   },
   "outputs": [
    {
     "data": {
      "text/plain": [
       "Index(['PassengerId', 'Survived', 'Pclass', 'Age', 'SibSp', 'Parch', 'Fare',\n",
       "       'train_test'],\n",
       "      dtype='object')"
      ]
     },
     "execution_count": 5,
     "metadata": {},
     "output_type": "execute_result"
    }
   ],
   "source": [
    "training.describe().columns"
   ]
  },
  {
   "cell_type": "markdown",
   "metadata": {
    "papermill": {
     "duration": 0.049931,
     "end_time": "2021-04-22T15:39:45.198126",
     "exception": false,
     "start_time": "2021-04-22T15:39:45.148195",
     "status": "completed"
    },
    "tags": []
   },
   "source": [
    "Let's separate num variables from categorical variables :"
   ]
  },
  {
   "cell_type": "code",
   "execution_count": 6,
   "metadata": {
    "execution": {
     "iopub.execute_input": "2021-04-22T15:39:45.298779Z",
     "iopub.status.busy": "2021-04-22T15:39:45.298241Z",
     "iopub.status.idle": "2021-04-22T15:39:45.304307Z",
     "shell.execute_reply": "2021-04-22T15:39:45.303758Z"
    },
    "papermill": {
     "duration": 0.057327,
     "end_time": "2021-04-22T15:39:45.304436",
     "exception": false,
     "start_time": "2021-04-22T15:39:45.247109",
     "status": "completed"
    },
    "tags": []
   },
   "outputs": [],
   "source": [
    "Var_Num = training[['Age', 'SibSp', 'Parch', 'Fare']]\n",
    "Var_Cat = training[['Survived','Pclass','Sex','Ticket','Cabin','Embarked']]"
   ]
  },
  {
   "cell_type": "markdown",
   "metadata": {
    "papermill": {
     "duration": 0.047361,
     "end_time": "2021-04-22T15:39:45.399178",
     "exception": false,
     "start_time": "2021-04-22T15:39:45.351817",
     "status": "completed"
    },
    "tags": []
   },
   "source": [
    " Distributions for all numeric variables :"
   ]
  },
  {
   "cell_type": "code",
   "execution_count": 7,
   "metadata": {
    "execution": {
     "iopub.execute_input": "2021-04-22T15:39:45.514010Z",
     "iopub.status.busy": "2021-04-22T15:39:45.513347Z",
     "iopub.status.idle": "2021-04-22T15:39:46.059546Z",
     "shell.execute_reply": "2021-04-22T15:39:46.059038Z"
    },
    "papermill": {
     "duration": 0.612621,
     "end_time": "2021-04-22T15:39:46.059690",
     "exception": false,
     "start_time": "2021-04-22T15:39:45.447069",
     "status": "completed"
    },
    "tags": []
   },
   "outputs": [
    {
     "data": {
      "image/png": "[encoded data removed]",
      "text/plain": [
       "<Figure size 432x288 with 1 Axes>"
      ]
     },
     "metadata": {
      "needs_background": "light"
     },
     "output_type": "display_data"
    },
    {
     "data": {
      "image/png": "[encoded data removed]",
      "text/plain": [
       "<Figure size 432x288 with 1 Axes>"
      ]
     },
     "metadata": {
      "needs_background": "light"
     },
     "output_type": "display_data"
    },
    {
     "data": {
      "image/png": "[encoded data removed]",
      "text/plain": [
       "<Figure size 432x288 with 1 Axes>"
      ]
     },
     "metadata": {
      "needs_background": "light"
     },
     "output_type": "display_data"
    },
    {
     "data": {
      "image/png": "[encoded data removed]",
      "text/plain": [
       "<Figure size 432x288 with 1 Axes>"
      ]
     },
     "metadata": {
      "needs_background": "light"
     },
     "output_type": "display_data"
    }
   ],
   "source": [
    "%matplotlib inline\n",
    "from matplotlib import pyplot as plt\n",
    "for i in Var_Num.columns:\n",
    "    plt.hist(Var_Num[i])\n",
    "    plt.title(i)\n",
    "    plt.show()"
   ]
  },
  {
   "cell_type": "code",
   "execution_count": 8,
   "metadata": {
    "execution": {
     "iopub.execute_input": "2021-04-22T15:39:46.169919Z",
     "iopub.status.busy": "2021-04-22T15:39:46.169294Z",
     "iopub.status.idle": "2021-04-22T15:39:47.144081Z",
     "shell.execute_reply": "2021-04-22T15:39:47.143596Z"
    },
    "papermill": {
     "duration": 1.032924,
     "end_time": "2021-04-22T15:39:47.144235",
     "exception": false,
     "start_time": "2021-04-22T15:39:46.111311",
     "status": "completed"
    },
    "tags": []
   },
   "outputs": [
    {
     "name": "stdout",
     "output_type": "stream",
     "text": [
      "            Age     SibSp     Parch      Fare\n",
      "Age    1.000000 -0.308247 -0.189119  0.096067\n",
      "SibSp -0.308247  1.000000  0.414838  0.159651\n",
      "Parch -0.189119  0.414838  1.000000  0.216225\n",
      "Fare   0.096067  0.159651  0.216225  1.000000\n"
     ]
    },
    {
     "data": {
      "text/plain": [
       "<AxesSubplot:>"
      ]
     },
     "execution_count": 8,
     "metadata": {},
     "output_type": "execute_result"
    },
    {
     "data": {
      "image/png": "[encoded data removed]",
      "text/plain": [
       "<Figure size 432x288 with 2 Axes>"
      ]
     },
     "metadata": {
      "needs_background": "light"
     },
     "output_type": "display_data"
    }
   ],
   "source": [
    "print(Var_Num.corr())\n",
    "import seaborn as sns \n",
    "sns.heatmap(Var_Num.corr())"
   ]
  },
  {
   "cell_type": "markdown",
   "metadata": {
    "papermill": {
     "duration": 0.050916,
     "end_time": "2021-04-22T15:39:47.246256",
     "exception": false,
     "start_time": "2021-04-22T15:39:47.195340",
     "status": "completed"
    },
    "tags": []
   },
   "source": [
    "Let's compare the survival rate across the numerical variables :"
   ]
  },
  {
   "cell_type": "code",
   "execution_count": 9,
   "metadata": {
    "execution": {
     "iopub.execute_input": "2021-04-22T15:39:47.361004Z",
     "iopub.status.busy": "2021-04-22T15:39:47.358685Z",
     "iopub.status.idle": "2021-04-22T15:39:47.388654Z",
     "shell.execute_reply": "2021-04-22T15:39:47.388005Z"
    },
    "papermill": {
     "duration": 0.091093,
     "end_time": "2021-04-22T15:39:47.388794",
     "exception": false,
     "start_time": "2021-04-22T15:39:47.297701",
     "status": "completed"
    },
    "tags": []
   },
   "outputs": [
    {
     "data": {
      "text/html": [
       "<div>\n",
       "<style scoped>\n",
       "    .dataframe tbody tr th:only-of-type {\n",
       "        vertical-align: middle;\n",
       "    }\n",
       "\n",
       "    .dataframe tbody tr th {\n",
       "        vertical-align: top;\n",
       "    }\n",
       "\n",
       "    .dataframe thead th {\n",
       "        text-align: right;\n",
       "    }\n",
       "</style>\n",
       "<table border=\"1\" class=\"dataframe\">\n",
       "  <thead>\n",
       "    <tr style=\"text-align: right;\">\n",
       "      <th></th>\n",
       "      <th>Age</th>\n",
       "      <th>Fare</th>\n",
       "      <th>Parch</th>\n",
       "      <th>SibSp</th>\n",
       "    </tr>\n",
       "    <tr>\n",
       "      <th>Survived</th>\n",
       "      <th></th>\n",
       "      <th></th>\n",
       "      <th></th>\n",
       "      <th></th>\n",
       "    </tr>\n",
       "  </thead>\n",
       "  <tbody>\n",
       "    <tr>\n",
       "      <th>0</th>\n",
       "      <td>30.626179</td>\n",
       "      <td>22.117887</td>\n",
       "      <td>0.329690</td>\n",
       "      <td>0.553734</td>\n",
       "    </tr>\n",
       "    <tr>\n",
       "      <th>1</th>\n",
       "      <td>28.343690</td>\n",
       "      <td>48.395408</td>\n",
       "      <td>0.464912</td>\n",
       "      <td>0.473684</td>\n",
       "    </tr>\n",
       "  </tbody>\n",
       "</table>\n",
       "</div>"
      ],
      "text/plain": [
       "                Age       Fare     Parch     SibSp\n",
       "Survived                                          \n",
       "0         30.626179  22.117887  0.329690  0.553734\n",
       "1         28.343690  48.395408  0.464912  0.473684"
      ]
     },
     "execution_count": 9,
     "metadata": {},
     "output_type": "execute_result"
    }
   ],
   "source": [
    "pd.pivot_table(training, index = 'Survived', values =['Age','SibSp','Parch','Fare'])"
   ]
  },
  {
   "cell_type": "code",
   "execution_count": 10,
   "metadata": {
    "execution": {
     "iopub.execute_input": "2021-04-22T15:39:47.498429Z",
     "iopub.status.busy": "2021-04-22T15:39:47.497529Z",
     "iopub.status.idle": "2021-04-22T15:39:58.562832Z",
     "shell.execute_reply": "2021-04-22T15:39:58.563313Z"
    },
    "papermill": {
     "duration": 11.123111,
     "end_time": "2021-04-22T15:39:58.563475",
     "exception": false,
     "start_time": "2021-04-22T15:39:47.440364",
     "status": "completed"
    },
    "tags": []
   },
   "outputs": [
    {
     "name": "stderr",
     "output_type": "stream",
     "text": [
      "/opt/conda/lib/python3.7/site-packages/seaborn/_decorators.py:43: FutureWarning: Pass the following variables as keyword args: x, y. From version 0.12, the only valid positional argument will be `data`, and passing other arguments without an explicit keyword will result in an error or misinterpretation.\n",
      "  FutureWarning\n"
     ]
    },
    {
     "data": {
      "image/png": "[encoded data removed]",
      "text/plain": [
       "<Figure size 432x288 with 1 Axes>"
      ]
     },
     "metadata": {
      "needs_background": "light"
     },
     "output_type": "display_data"
    },
    {
     "name": "stderr",
     "output_type": "stream",
     "text": [
      "/opt/conda/lib/python3.7/site-packages/seaborn/_decorators.py:43: FutureWarning: Pass the following variables as keyword args: x, y. From version 0.12, the only valid positional argument will be `data`, and passing other arguments without an explicit keyword will result in an error or misinterpretation.\n",
      "  FutureWarning\n"
     ]
    },
    {
     "data": {
      "image/png": "[encoded data removed]",
      "text/plain": [
       "<Figure size 432x288 with 1 Axes>"
      ]
     },
     "metadata": {
      "needs_background": "light"
     },
     "output_type": "display_data"
    },
    {
     "name": "stderr",
     "output_type": "stream",
     "text": [
      "/opt/conda/lib/python3.7/site-packages/seaborn/_decorators.py:43: FutureWarning: Pass the following variables as keyword args: x, y. From version 0.12, the only valid positional argument will be `data`, and passing other arguments without an explicit keyword will result in an error or misinterpretation.\n",
      "  FutureWarning\n"
     ]
    },
    {
     "data": {
      "image/png": "[encoded data removed]",
      "text/plain": [
       "<Figure size 432x288 with 1 Axes>"
      ]
     },
     "metadata": {
      "needs_background": "light"
     },
     "output_type": "display_data"
    },
    {
     "name": "stderr",
     "output_type": "stream",
     "text": [
      "/opt/conda/lib/python3.7/site-packages/seaborn/_decorators.py:43: FutureWarning: Pass the following variables as keyword args: x, y. From version 0.12, the only valid positional argument will be `data`, and passing other arguments without an explicit keyword will result in an error or misinterpretation.\n",
      "  FutureWarning\n"
     ]
    },
    {
     "data": {
      "image/png": "[encoded data removed]",
      "text/plain": [
       "<Figure size 432x288 with 1 Axes>"
      ]
     },
     "metadata": {
      "needs_background": "light"
     },
     "output_type": "display_data"
    },
    {
     "name": "stderr",
     "output_type": "stream",
     "text": [
      "/opt/conda/lib/python3.7/site-packages/seaborn/_decorators.py:43: FutureWarning: Pass the following variables as keyword args: x, y. From version 0.12, the only valid positional argument will be `data`, and passing other arguments without an explicit keyword will result in an error or misinterpretation.\n",
      "  FutureWarning\n"
     ]
    },
    {
     "data": {
      "image/png": "[encoded data removed]",
      "text/plain": [
       "<Figure size 432x288 with 1 Axes>"
      ]
     },
     "metadata": {
      "needs_background": "light"
     },
     "output_type": "display_data"
    },
    {
     "name": "stderr",
     "output_type": "stream",
     "text": [
      "/opt/conda/lib/python3.7/site-packages/seaborn/_decorators.py:43: FutureWarning: Pass the following variables as keyword args: x, y. From version 0.12, the only valid positional argument will be `data`, and passing other arguments without an explicit keyword will result in an error or misinterpretation.\n",
      "  FutureWarning\n"
     ]
    },
    {
     "data": {
      "image/png": "[encoded data removed]",
      "text/plain": [
       "<Figure size 432x288 with 1 Axes>"
      ]
     },
     "metadata": {
      "needs_background": "light"
     },
     "output_type": "display_data"
    }
   ],
   "source": [
    "for i in Var_Cat.columns:\n",
    "    sns.barplot(Var_Cat[i].value_counts().index,Var_Cat[i].value_counts()).set_title(i)\n",
    "    plt.show()"
   ]
  },
  {
   "cell_type": "markdown",
   "metadata": {
    "papermill": {
     "duration": 0.057824,
     "end_time": "2021-04-22T15:39:58.679434",
     "exception": false,
     "start_time": "2021-04-22T15:39:58.621610",
     "status": "completed"
    },
    "tags": []
   },
   "source": [
    "By observing the plots, we realize that cabin and ticket graph are very messy.\n",
    "\n",
    "Let's compare survival and each of the categorical variables."
   ]
  },
  {
   "cell_type": "code",
   "execution_count": 11,
   "metadata": {
    "execution": {
     "iopub.execute_input": "2021-04-22T15:39:58.816678Z",
     "iopub.status.busy": "2021-04-22T15:39:58.800952Z",
     "iopub.status.idle": "2021-04-22T15:39:58.841809Z",
     "shell.execute_reply": "2021-04-22T15:39:58.842867Z"
    },
    "papermill": {
     "duration": 0.106802,
     "end_time": "2021-04-22T15:39:58.843187",
     "exception": false,
     "start_time": "2021-04-22T15:39:58.736385",
     "status": "completed"
    },
    "tags": []
   },
   "outputs": [
    {
     "name": "stdout",
     "output_type": "stream",
     "text": [
      "Pclass      1   2    3\n",
      "Survived              \n",
      "0          80  97  372\n",
      "1         136  87  119\n",
      "\n",
      "Sex       female  male\n",
      "Survived              \n",
      "0             81   468\n",
      "1            233   109\n",
      "\n",
      "Embarked   C   Q    S\n",
      "Survived             \n",
      "0         75  47  427\n",
      "1         93  30  217\n"
     ]
    }
   ],
   "source": [
    "print(pd.pivot_table(training, index = 'Survived', columns = 'Pclass', values = 'Ticket' ,aggfunc ='count'))\n",
    "print()\n",
    "print(pd.pivot_table(training, index = 'Survived', columns = 'Sex', values = 'Ticket' ,aggfunc ='count'))\n",
    "print()\n",
    "print(pd.pivot_table(training, index = 'Survived', columns = 'Embarked', values = 'Ticket' ,aggfunc ='count'))"
   ]
  },
  {
   "cell_type": "code",
   "execution_count": 12,
   "metadata": {
    "execution": {
     "iopub.execute_input": "2021-04-22T15:39:58.967652Z",
     "iopub.status.busy": "2021-04-22T15:39:58.966827Z",
     "iopub.status.idle": "2021-04-22T15:39:58.970757Z",
     "shell.execute_reply": "2021-04-22T15:39:58.970197Z"
    },
    "papermill": {
     "duration": 0.070646,
     "end_time": "2021-04-22T15:39:58.970894",
     "exception": false,
     "start_time": "2021-04-22T15:39:58.900248",
     "status": "completed"
    },
    "tags": []
   },
   "outputs": [
    {
     "data": {
      "text/plain": [
       "0    687\n",
       "1    180\n",
       "2     16\n",
       "3      6\n",
       "4      2\n",
       "Name: cabin_multiple, dtype: int64"
      ]
     },
     "execution_count": 12,
     "metadata": {},
     "output_type": "execute_result"
    }
   ],
   "source": [
    "Var_Cat.Cabin\n",
    "training['cabin_multiple'] = training.Cabin.apply(lambda x: 0 if pd.isna(x) else len(x.split(' ')))\n",
    "training['cabin_multiple'].value_counts()"
   ]
  },
  {
   "cell_type": "code",
   "execution_count": 13,
   "metadata": {
    "execution": {
     "iopub.execute_input": "2021-04-22T15:39:59.094991Z",
     "iopub.status.busy": "2021-04-22T15:39:59.092554Z",
     "iopub.status.idle": "2021-04-22T15:39:59.111358Z",
     "shell.execute_reply": "2021-04-22T15:39:59.110881Z"
    },
    "papermill": {
     "duration": 0.081421,
     "end_time": "2021-04-22T15:39:59.111483",
     "exception": false,
     "start_time": "2021-04-22T15:39:59.030062",
     "status": "completed"
    },
    "tags": []
   },
   "outputs": [
    {
     "data": {
      "text/html": [
       "<div>\n",
       "<style scoped>\n",
       "    .dataframe tbody tr th:only-of-type {\n",
       "        vertical-align: middle;\n",
       "    }\n",
       "\n",
       "    .dataframe tbody tr th {\n",
       "        vertical-align: top;\n",
       "    }\n",
       "\n",
       "    .dataframe thead th {\n",
       "        text-align: right;\n",
       "    }\n",
       "</style>\n",
       "<table border=\"1\" class=\"dataframe\">\n",
       "  <thead>\n",
       "    <tr style=\"text-align: right;\">\n",
       "      <th>cabin_multiple</th>\n",
       "      <th>0</th>\n",
       "      <th>1</th>\n",
       "      <th>2</th>\n",
       "      <th>3</th>\n",
       "      <th>4</th>\n",
       "    </tr>\n",
       "    <tr>\n",
       "      <th>Survived</th>\n",
       "      <th></th>\n",
       "      <th></th>\n",
       "      <th></th>\n",
       "      <th></th>\n",
       "      <th></th>\n",
       "    </tr>\n",
       "  </thead>\n",
       "  <tbody>\n",
       "    <tr>\n",
       "      <th>0</th>\n",
       "      <td>481.0</td>\n",
       "      <td>58.0</td>\n",
       "      <td>7.0</td>\n",
       "      <td>3.0</td>\n",
       "      <td>NaN</td>\n",
       "    </tr>\n",
       "    <tr>\n",
       "      <th>1</th>\n",
       "      <td>206.0</td>\n",
       "      <td>122.0</td>\n",
       "      <td>9.0</td>\n",
       "      <td>3.0</td>\n",
       "      <td>2.0</td>\n",
       "    </tr>\n",
       "  </tbody>\n",
       "</table>\n",
       "</div>"
      ],
      "text/plain": [
       "cabin_multiple      0      1    2    3    4\n",
       "Survived                                   \n",
       "0               481.0   58.0  7.0  3.0  NaN\n",
       "1               206.0  122.0  9.0  3.0  2.0"
      ]
     },
     "execution_count": 13,
     "metadata": {},
     "output_type": "execute_result"
    }
   ],
   "source": [
    "pd.pivot_table(training, index = 'Survived', columns = 'cabin_multiple', values = 'Ticket' ,aggfunc ='count')"
   ]
  },
  {
   "cell_type": "markdown",
   "metadata": {
    "papermill": {
     "duration": 0.057725,
     "end_time": "2021-04-22T15:39:59.227023",
     "exception": false,
     "start_time": "2021-04-22T15:39:59.169298",
     "status": "completed"
    },
    "tags": []
   },
   "source": [
    "We will create categories based on cabin's letters :"
   ]
  },
  {
   "cell_type": "code",
   "execution_count": 14,
   "metadata": {
    "execution": {
     "iopub.execute_input": "2021-04-22T15:39:59.354527Z",
     "iopub.status.busy": "2021-04-22T15:39:59.352693Z",
     "iopub.status.idle": "2021-04-22T15:39:59.357333Z",
     "shell.execute_reply": "2021-04-22T15:39:59.357719Z"
    },
    "papermill": {
     "duration": 0.072168,
     "end_time": "2021-04-22T15:39:59.357871",
     "exception": false,
     "start_time": "2021-04-22T15:39:59.285703",
     "status": "completed"
    },
    "tags": []
   },
   "outputs": [],
   "source": [
    "training['cabin_adv'] = training.Cabin.apply(lambda x: str(x)[0])"
   ]
  },
  {
   "cell_type": "markdown",
   "metadata": {
    "papermill": {
     "duration": 0.057732,
     "end_time": "2021-04-22T15:39:59.473572",
     "exception": false,
     "start_time": "2021-04-22T15:39:59.415840",
     "status": "completed"
    },
    "tags": []
   },
   "source": [
    "Let's compare survival rate by cabin :"
   ]
  },
  {
   "cell_type": "code",
   "execution_count": 15,
   "metadata": {
    "execution": {
     "iopub.execute_input": "2021-04-22T15:39:59.602894Z",
     "iopub.status.busy": "2021-04-22T15:39:59.598336Z",
     "iopub.status.idle": "2021-04-22T15:39:59.619244Z",
     "shell.execute_reply": "2021-04-22T15:39:59.619705Z"
    },
    "papermill": {
     "duration": 0.088409,
     "end_time": "2021-04-22T15:39:59.619858",
     "exception": false,
     "start_time": "2021-04-22T15:39:59.531449",
     "status": "completed"
    },
    "tags": []
   },
   "outputs": [
    {
     "name": "stdout",
     "output_type": "stream",
     "text": [
      "n    687\n",
      "C     59\n",
      "B     47\n",
      "D     33\n",
      "E     32\n",
      "A     15\n",
      "F     13\n",
      "G      4\n",
      "T      1\n",
      "Name: cabin_adv, dtype: int64\n"
     ]
    },
    {
     "data": {
      "text/html": [
       "<div>\n",
       "<style scoped>\n",
       "    .dataframe tbody tr th:only-of-type {\n",
       "        vertical-align: middle;\n",
       "    }\n",
       "\n",
       "    .dataframe tbody tr th {\n",
       "        vertical-align: top;\n",
       "    }\n",
       "\n",
       "    .dataframe thead th {\n",
       "        text-align: right;\n",
       "    }\n",
       "</style>\n",
       "<table border=\"1\" class=\"dataframe\">\n",
       "  <thead>\n",
       "    <tr style=\"text-align: right;\">\n",
       "      <th>cabin_adv</th>\n",
       "      <th>A</th>\n",
       "      <th>B</th>\n",
       "      <th>C</th>\n",
       "      <th>D</th>\n",
       "      <th>E</th>\n",
       "      <th>F</th>\n",
       "      <th>G</th>\n",
       "      <th>T</th>\n",
       "      <th>n</th>\n",
       "    </tr>\n",
       "    <tr>\n",
       "      <th>Survived</th>\n",
       "      <th></th>\n",
       "      <th></th>\n",
       "      <th></th>\n",
       "      <th></th>\n",
       "      <th></th>\n",
       "      <th></th>\n",
       "      <th></th>\n",
       "      <th></th>\n",
       "      <th></th>\n",
       "    </tr>\n",
       "  </thead>\n",
       "  <tbody>\n",
       "    <tr>\n",
       "      <th>0</th>\n",
       "      <td>8.0</td>\n",
       "      <td>12.0</td>\n",
       "      <td>24.0</td>\n",
       "      <td>8.0</td>\n",
       "      <td>8.0</td>\n",
       "      <td>5.0</td>\n",
       "      <td>2.0</td>\n",
       "      <td>1.0</td>\n",
       "      <td>481.0</td>\n",
       "    </tr>\n",
       "    <tr>\n",
       "      <th>1</th>\n",
       "      <td>7.0</td>\n",
       "      <td>35.0</td>\n",
       "      <td>35.0</td>\n",
       "      <td>25.0</td>\n",
       "      <td>24.0</td>\n",
       "      <td>8.0</td>\n",
       "      <td>2.0</td>\n",
       "      <td>NaN</td>\n",
       "      <td>206.0</td>\n",
       "    </tr>\n",
       "  </tbody>\n",
       "</table>\n",
       "</div>"
      ],
      "text/plain": [
       "cabin_adv    A     B     C     D     E    F    G    T      n\n",
       "Survived                                                    \n",
       "0          8.0  12.0  24.0   8.0   8.0  5.0  2.0  1.0  481.0\n",
       "1          7.0  35.0  35.0  25.0  24.0  8.0  2.0  NaN  206.0"
      ]
     },
     "execution_count": 15,
     "metadata": {},
     "output_type": "execute_result"
    }
   ],
   "source": [
    "print(training.cabin_adv.value_counts())\n",
    "pd.pivot_table(training,index='Survived',columns='cabin_adv', values = 'Name', aggfunc='count')"
   ]
  },
  {
   "cell_type": "markdown",
   "metadata": {
    "papermill": {
     "duration": 0.058313,
     "end_time": "2021-04-22T15:39:59.738199",
     "exception": false,
     "start_time": "2021-04-22T15:39:59.679886",
     "status": "completed"
    },
    "tags": []
   },
   "source": [
    "Understanding ticket's values :"
   ]
  },
  {
   "cell_type": "code",
   "execution_count": 16,
   "metadata": {
    "execution": {
     "iopub.execute_input": "2021-04-22T15:39:59.865709Z",
     "iopub.status.busy": "2021-04-22T15:39:59.865118Z",
     "iopub.status.idle": "2021-04-22T15:39:59.867711Z",
     "shell.execute_reply": "2021-04-22T15:39:59.867178Z"
    },
    "papermill": {
     "duration": 0.071038,
     "end_time": "2021-04-22T15:39:59.867832",
     "exception": false,
     "start_time": "2021-04-22T15:39:59.796794",
     "status": "completed"
    },
    "tags": []
   },
   "outputs": [],
   "source": [
    "training['numeric_ticket'] = training.Ticket.apply(lambda x: 1 if x.isnumeric() else 0)\n",
    "training['ticket_letters'] = training.Ticket.apply(lambda x: ''.join(x.split(' ')[:-1]).replace('.','').replace('/','').lower() if len(x.split(' ')[:-1]) >0 else 0)"
   ]
  },
  {
   "cell_type": "code",
   "execution_count": 17,
   "metadata": {
    "execution": {
     "iopub.execute_input": "2021-04-22T15:39:59.994589Z",
     "iopub.status.busy": "2021-04-22T15:39:59.993643Z",
     "iopub.status.idle": "2021-04-22T15:39:59.998027Z",
     "shell.execute_reply": "2021-04-22T15:39:59.997508Z"
    },
    "papermill": {
     "duration": 0.069407,
     "end_time": "2021-04-22T15:39:59.998170",
     "exception": false,
     "start_time": "2021-04-22T15:39:59.928763",
     "status": "completed"
    },
    "tags": []
   },
   "outputs": [
    {
     "data": {
      "text/plain": [
       "1    661\n",
       "0    230\n",
       "Name: numeric_ticket, dtype: int64"
      ]
     },
     "execution_count": 17,
     "metadata": {},
     "output_type": "execute_result"
    }
   ],
   "source": [
    "training['numeric_ticket'].value_counts()"
   ]
  },
  {
   "cell_type": "code",
   "execution_count": 18,
   "metadata": {
    "execution": {
     "iopub.execute_input": "2021-04-22T15:40:00.125788Z",
     "iopub.status.busy": "2021-04-22T15:40:00.123893Z",
     "iopub.status.idle": "2021-04-22T15:40:00.129362Z",
     "shell.execute_reply": "2021-04-22T15:40:00.128824Z"
    },
    "papermill": {
     "duration": 0.070601,
     "end_time": "2021-04-22T15:40:00.129482",
     "exception": false,
     "start_time": "2021-04-22T15:40:00.058881",
     "status": "completed"
    },
    "tags": []
   },
   "outputs": [
    {
     "data": {
      "text/plain": [
       "0            665\n",
       "pc            60\n",
       "ca            41\n",
       "a5            21\n",
       "stono2        18\n",
       "sotonoq       15\n",
       "scparis       11\n",
       "wc            10\n",
       "a4             7\n",
       "soc            6\n",
       "fcc            5\n",
       "c              5\n",
       "pp             3\n",
       "wep            3\n",
       "sopp           3\n",
       "swpp           2\n",
       "sotono2        2\n",
       "scah           2\n",
       "ppp            2\n",
       "sc             1\n",
       "scow           1\n",
       "sca4           1\n",
       "sp             1\n",
       "scahbasle      1\n",
       "casoton        1\n",
       "as             1\n",
       "fa             1\n",
       "fc             1\n",
       "sop            1\n",
       "Name: ticket_letters, dtype: int64"
      ]
     },
     "execution_count": 18,
     "metadata": {},
     "output_type": "execute_result"
    }
   ],
   "source": [
    "pd.set_option(\"max_rows\", None)\n",
    "training['ticket_letters'].value_counts()"
   ]
  },
  {
   "cell_type": "markdown",
   "metadata": {
    "papermill": {
     "duration": 0.059271,
     "end_time": "2021-04-22T15:40:00.248805",
     "exception": false,
     "start_time": "2021-04-22T15:40:00.189534",
     "status": "completed"
    },
    "tags": []
   },
   "source": [
    "Survival rate by numeric and non-numeric tickets :"
   ]
  },
  {
   "cell_type": "code",
   "execution_count": 19,
   "metadata": {
    "execution": {
     "iopub.execute_input": "2021-04-22T15:40:00.374970Z",
     "iopub.status.busy": "2021-04-22T15:40:00.374422Z",
     "iopub.status.idle": "2021-04-22T15:40:00.389500Z",
     "shell.execute_reply": "2021-04-22T15:40:00.388938Z"
    },
    "papermill": {
     "duration": 0.081745,
     "end_time": "2021-04-22T15:40:00.389637",
     "exception": false,
     "start_time": "2021-04-22T15:40:00.307892",
     "status": "completed"
    },
    "tags": []
   },
   "outputs": [
    {
     "data": {
      "text/html": [
       "<div>\n",
       "<style scoped>\n",
       "    .dataframe tbody tr th:only-of-type {\n",
       "        vertical-align: middle;\n",
       "    }\n",
       "\n",
       "    .dataframe tbody tr th {\n",
       "        vertical-align: top;\n",
       "    }\n",
       "\n",
       "    .dataframe thead th {\n",
       "        text-align: right;\n",
       "    }\n",
       "</style>\n",
       "<table border=\"1\" class=\"dataframe\">\n",
       "  <thead>\n",
       "    <tr style=\"text-align: right;\">\n",
       "      <th>numeric_ticket</th>\n",
       "      <th>0</th>\n",
       "      <th>1</th>\n",
       "    </tr>\n",
       "    <tr>\n",
       "      <th>Survived</th>\n",
       "      <th></th>\n",
       "      <th></th>\n",
       "    </tr>\n",
       "  </thead>\n",
       "  <tbody>\n",
       "    <tr>\n",
       "      <th>0</th>\n",
       "      <td>142</td>\n",
       "      <td>407</td>\n",
       "    </tr>\n",
       "    <tr>\n",
       "      <th>1</th>\n",
       "      <td>88</td>\n",
       "      <td>254</td>\n",
       "    </tr>\n",
       "  </tbody>\n",
       "</table>\n",
       "</div>"
      ],
      "text/plain": [
       "numeric_ticket    0    1\n",
       "Survived                \n",
       "0               142  407\n",
       "1                88  254"
      ]
     },
     "execution_count": 19,
     "metadata": {},
     "output_type": "execute_result"
    }
   ],
   "source": [
    "pd.pivot_table(training,index='Survived',columns='numeric_ticket', values = 'Ticket', aggfunc='count')"
   ]
  },
  {
   "cell_type": "markdown",
   "metadata": {
    "papermill": {
     "duration": 0.060221,
     "end_time": "2021-04-22T15:40:00.510066",
     "exception": false,
     "start_time": "2021-04-22T15:40:00.449845",
     "status": "completed"
    },
    "tags": []
   },
   "source": [
    "Survival rate by ticket's type :"
   ]
  },
  {
   "cell_type": "code",
   "execution_count": 20,
   "metadata": {
    "execution": {
     "iopub.execute_input": "2021-04-22T15:40:00.656741Z",
     "iopub.status.busy": "2021-04-22T15:40:00.655061Z",
     "iopub.status.idle": "2021-04-22T15:40:00.671049Z",
     "shell.execute_reply": "2021-04-22T15:40:00.670505Z"
    },
    "papermill": {
     "duration": 0.100721,
     "end_time": "2021-04-22T15:40:00.671176",
     "exception": false,
     "start_time": "2021-04-22T15:40:00.570455",
     "status": "completed"
    },
    "tags": []
   },
   "outputs": [
    {
     "data": {
      "text/html": [
       "<div>\n",
       "<style scoped>\n",
       "    .dataframe tbody tr th:only-of-type {\n",
       "        vertical-align: middle;\n",
       "    }\n",
       "\n",
       "    .dataframe tbody tr th {\n",
       "        vertical-align: top;\n",
       "    }\n",
       "\n",
       "    .dataframe thead th {\n",
       "        text-align: right;\n",
       "    }\n",
       "</style>\n",
       "<table border=\"1\" class=\"dataframe\">\n",
       "  <thead>\n",
       "    <tr style=\"text-align: right;\">\n",
       "      <th>ticket_letters</th>\n",
       "      <th>0</th>\n",
       "      <th>a4</th>\n",
       "      <th>a5</th>\n",
       "      <th>as</th>\n",
       "      <th>c</th>\n",
       "      <th>ca</th>\n",
       "      <th>casoton</th>\n",
       "      <th>fa</th>\n",
       "      <th>fc</th>\n",
       "      <th>fcc</th>\n",
       "      <th>...</th>\n",
       "      <th>soc</th>\n",
       "      <th>sop</th>\n",
       "      <th>sopp</th>\n",
       "      <th>sotono2</th>\n",
       "      <th>sotonoq</th>\n",
       "      <th>sp</th>\n",
       "      <th>stono2</th>\n",
       "      <th>swpp</th>\n",
       "      <th>wc</th>\n",
       "      <th>wep</th>\n",
       "    </tr>\n",
       "    <tr>\n",
       "      <th>Survived</th>\n",
       "      <th></th>\n",
       "      <th></th>\n",
       "      <th></th>\n",
       "      <th></th>\n",
       "      <th></th>\n",
       "      <th></th>\n",
       "      <th></th>\n",
       "      <th></th>\n",
       "      <th></th>\n",
       "      <th></th>\n",
       "      <th></th>\n",
       "      <th></th>\n",
       "      <th></th>\n",
       "      <th></th>\n",
       "      <th></th>\n",
       "      <th></th>\n",
       "      <th></th>\n",
       "      <th></th>\n",
       "      <th></th>\n",
       "      <th></th>\n",
       "      <th></th>\n",
       "    </tr>\n",
       "  </thead>\n",
       "  <tbody>\n",
       "    <tr>\n",
       "      <th>0</th>\n",
       "      <td>410.0</td>\n",
       "      <td>7.0</td>\n",
       "      <td>19.0</td>\n",
       "      <td>1.0</td>\n",
       "      <td>3.0</td>\n",
       "      <td>27.0</td>\n",
       "      <td>1.0</td>\n",
       "      <td>1.0</td>\n",
       "      <td>1.0</td>\n",
       "      <td>1.0</td>\n",
       "      <td>...</td>\n",
       "      <td>5.0</td>\n",
       "      <td>1.0</td>\n",
       "      <td>3.0</td>\n",
       "      <td>2.0</td>\n",
       "      <td>13.0</td>\n",
       "      <td>1.0</td>\n",
       "      <td>10.0</td>\n",
       "      <td>NaN</td>\n",
       "      <td>9.0</td>\n",
       "      <td>2.0</td>\n",
       "    </tr>\n",
       "    <tr>\n",
       "      <th>1</th>\n",
       "      <td>255.0</td>\n",
       "      <td>NaN</td>\n",
       "      <td>2.0</td>\n",
       "      <td>NaN</td>\n",
       "      <td>2.0</td>\n",
       "      <td>14.0</td>\n",
       "      <td>NaN</td>\n",
       "      <td>NaN</td>\n",
       "      <td>NaN</td>\n",
       "      <td>4.0</td>\n",
       "      <td>...</td>\n",
       "      <td>1.0</td>\n",
       "      <td>NaN</td>\n",
       "      <td>NaN</td>\n",
       "      <td>NaN</td>\n",
       "      <td>2.0</td>\n",
       "      <td>NaN</td>\n",
       "      <td>8.0</td>\n",
       "      <td>2.0</td>\n",
       "      <td>1.0</td>\n",
       "      <td>1.0</td>\n",
       "    </tr>\n",
       "  </tbody>\n",
       "</table>\n",
       "<p>2 rows × 29 columns</p>\n",
       "</div>"
      ],
      "text/plain": [
       "ticket_letters      0   a4    a5   as    c    ca  casoton   fa   fc  fcc  ...  \\\n",
       "Survived                                                                  ...   \n",
       "0               410.0  7.0  19.0  1.0  3.0  27.0      1.0  1.0  1.0  1.0  ...   \n",
       "1               255.0  NaN   2.0  NaN  2.0  14.0      NaN  NaN  NaN  4.0  ...   \n",
       "\n",
       "ticket_letters  soc  sop  sopp  sotono2  sotonoq   sp  stono2  swpp   wc  wep  \n",
       "Survived                                                                       \n",
       "0               5.0  1.0   3.0      2.0     13.0  1.0    10.0   NaN  9.0  2.0  \n",
       "1               1.0  NaN   NaN      NaN      2.0  NaN     8.0   2.0  1.0  1.0  \n",
       "\n",
       "[2 rows x 29 columns]"
      ]
     },
     "execution_count": 20,
     "metadata": {},
     "output_type": "execute_result"
    }
   ],
   "source": [
    "pd.pivot_table(training,index='Survived',columns='ticket_letters', values = 'Ticket', aggfunc='count')"
   ]
  },
  {
   "cell_type": "markdown",
   "metadata": {
    "papermill": {
     "duration": 0.061001,
     "end_time": "2021-04-22T15:40:00.792760",
     "exception": false,
     "start_time": "2021-04-22T15:40:00.731759",
     "status": "completed"
    },
    "tags": []
   },
   "source": [
    "Feature engineering on person's title :"
   ]
  },
  {
   "cell_type": "code",
   "execution_count": 21,
   "metadata": {
    "execution": {
     "iopub.execute_input": "2021-04-22T15:40:00.931191Z",
     "iopub.status.busy": "2021-04-22T15:40:00.930313Z",
     "iopub.status.idle": "2021-04-22T15:40:00.932941Z",
     "shell.execute_reply": "2021-04-22T15:40:00.933439Z"
    },
    "papermill": {
     "duration": 0.080379,
     "end_time": "2021-04-22T15:40:00.933601",
     "exception": false,
     "start_time": "2021-04-22T15:40:00.853222",
     "status": "completed"
    },
    "tags": []
   },
   "outputs": [],
   "source": [
    "training.Name.head(50)\n",
    "training['name_title'] = training.Name.apply(lambda x: x.split(',')[1].split('.')[0].strip())"
   ]
  },
  {
   "cell_type": "code",
   "execution_count": 22,
   "metadata": {
    "execution": {
     "iopub.execute_input": "2021-04-22T15:40:01.076825Z",
     "iopub.status.busy": "2021-04-22T15:40:01.076250Z",
     "iopub.status.idle": "2021-04-22T15:40:01.080021Z",
     "shell.execute_reply": "2021-04-22T15:40:01.079477Z"
    },
    "papermill": {
     "duration": 0.07011,
     "end_time": "2021-04-22T15:40:01.080145",
     "exception": false,
     "start_time": "2021-04-22T15:40:01.010035",
     "status": "completed"
    },
    "tags": []
   },
   "outputs": [
    {
     "data": {
      "text/plain": [
       "Mr              517\n",
       "Miss            182\n",
       "Mrs             125\n",
       "Master           40\n",
       "Dr                7\n",
       "Rev               6\n",
       "Major             2\n",
       "Mlle              2\n",
       "Col               2\n",
       "the Countess      1\n",
       "Capt              1\n",
       "Jonkheer          1\n",
       "Lady              1\n",
       "Don               1\n",
       "Sir               1\n",
       "Mme               1\n",
       "Ms                1\n",
       "Name: name_title, dtype: int64"
      ]
     },
     "execution_count": 22,
     "metadata": {},
     "output_type": "execute_result"
    }
   ],
   "source": [
    "training['name_title'].value_counts()"
   ]
  },
  {
   "cell_type": "markdown",
   "metadata": {
    "papermill": {
     "duration": 0.060876,
     "end_time": "2021-04-22T15:40:01.202916",
     "exception": false,
     "start_time": "2021-04-22T15:40:01.142040",
     "status": "completed"
    },
    "tags": []
   },
   "source": [
    "# Data Preprocessing for the model\n",
    "We will prepare the data :\n",
    "1. Drop and replace null values in some variables.\n",
    "2. Exclude irrelevant variables.\n",
    "3. Create dummy variables from categorical variables.\n",
    "4. Normalize \"Fare\" using logarithm."
   ]
  },
  {
   "cell_type": "code",
   "execution_count": 23,
   "metadata": {
    "execution": {
     "iopub.execute_input": "2021-04-22T15:40:01.340496Z",
     "iopub.status.busy": "2021-04-22T15:40:01.332801Z",
     "iopub.status.idle": "2021-04-22T15:40:01.343864Z",
     "shell.execute_reply": "2021-04-22T15:40:01.343451Z"
    },
    "papermill": {
     "duration": 0.080112,
     "end_time": "2021-04-22T15:40:01.344005",
     "exception": false,
     "start_time": "2021-04-22T15:40:01.263893",
     "status": "completed"
    },
    "tags": []
   },
   "outputs": [],
   "source": [
    "all_data['cabin_multiple'] = all_data.Cabin.apply(lambda x: 0 if pd.isna(x) else len(x.split(' ')))\n",
    "all_data['cabin_adv'] = all_data.Cabin.apply(lambda x: str(x)[0])\n",
    "all_data['numeric_ticket'] = all_data.Ticket.apply(lambda x: 1 if x.isnumeric() else 0)\n",
    "all_data['ticket_letters'] = all_data.Ticket.apply(lambda x: ''.join(x.split(' ')[:-1]).replace('.','').replace('/','').lower() if len(x.split(' ')[:-1]) >0 else 0)\n",
    "all_data['name_title'] = all_data.Name.apply(lambda x: x.split(',')[1].split('.')[0].strip())"
   ]
  },
  {
   "cell_type": "markdown",
   "metadata": {
    "papermill": {
     "duration": 0.06139,
     "end_time": "2021-04-22T15:40:01.466641",
     "exception": false,
     "start_time": "2021-04-22T15:40:01.405251",
     "status": "completed"
    },
    "tags": []
   },
   "source": [
    "Replace nulls for continuous data :"
   ]
  },
  {
   "cell_type": "code",
   "execution_count": 24,
   "metadata": {
    "execution": {
     "iopub.execute_input": "2021-04-22T15:40:01.596760Z",
     "iopub.status.busy": "2021-04-22T15:40:01.596073Z",
     "iopub.status.idle": "2021-04-22T15:40:01.599604Z",
     "shell.execute_reply": "2021-04-22T15:40:01.599054Z"
    },
    "papermill": {
     "duration": 0.071821,
     "end_time": "2021-04-22T15:40:01.599729",
     "exception": false,
     "start_time": "2021-04-22T15:40:01.527908",
     "status": "completed"
    },
    "tags": []
   },
   "outputs": [],
   "source": [
    "all_data.Age = all_data.Age.fillna(training.Age.median())\n",
    "all_data.Fare = all_data.Fare.fillna(training.Fare.median())"
   ]
  },
  {
   "cell_type": "markdown",
   "metadata": {
    "papermill": {
     "duration": 0.060592,
     "end_time": "2021-04-22T15:40:01.721834",
     "exception": false,
     "start_time": "2021-04-22T15:40:01.661242",
     "status": "completed"
    },
    "tags": []
   },
   "source": [
    "Drop null \"embarked\" rows :"
   ]
  },
  {
   "cell_type": "code",
   "execution_count": 25,
   "metadata": {
    "execution": {
     "iopub.execute_input": "2021-04-22T15:40:01.850278Z",
     "iopub.status.busy": "2021-04-22T15:40:01.849133Z",
     "iopub.status.idle": "2021-04-22T15:40:01.855017Z",
     "shell.execute_reply": "2021-04-22T15:40:01.855507Z"
    },
    "papermill": {
     "duration": 0.072829,
     "end_time": "2021-04-22T15:40:01.855654",
     "exception": false,
     "start_time": "2021-04-22T15:40:01.782825",
     "status": "completed"
    },
    "tags": []
   },
   "outputs": [],
   "source": [
    "all_data.dropna(subset=['Embarked'],inplace = True)"
   ]
  },
  {
   "cell_type": "markdown",
   "metadata": {
    "papermill": {
     "duration": 0.062446,
     "end_time": "2021-04-22T15:40:01.979208",
     "exception": false,
     "start_time": "2021-04-22T15:40:01.916762",
     "status": "completed"
    },
    "tags": []
   },
   "source": [
    "Let's use log on sibsp to normalize its distribution :"
   ]
  },
  {
   "cell_type": "code",
   "execution_count": 26,
   "metadata": {
    "execution": {
     "iopub.execute_input": "2021-04-22T15:40:02.108842Z",
     "iopub.status.busy": "2021-04-22T15:40:02.108041Z",
     "iopub.status.idle": "2021-04-22T15:40:02.247227Z",
     "shell.execute_reply": "2021-04-22T15:40:02.246758Z"
    },
    "papermill": {
     "duration": 0.205487,
     "end_time": "2021-04-22T15:40:02.247368",
     "exception": false,
     "start_time": "2021-04-22T15:40:02.041881",
     "status": "completed"
    },
    "tags": []
   },
   "outputs": [
    {
     "data": {
      "text/plain": [
       "<AxesSubplot:>"
      ]
     },
     "execution_count": 26,
     "metadata": {},
     "output_type": "execute_result"
    },
    {
     "data": {
      "image/png": "[encoded data removed]",
      "text/plain": [
       "<Figure size 432x288 with 1 Axes>"
      ]
     },
     "metadata": {
      "needs_background": "light"
     },
     "output_type": "display_data"
    }
   ],
   "source": [
    "all_data['norm_sibsp'] = np.log(all_data.SibSp+1)\n",
    "all_data['norm_sibsp'].hist()"
   ]
  },
  {
   "cell_type": "markdown",
   "metadata": {
    "papermill": {
     "duration": 0.062838,
     "end_time": "2021-04-22T15:40:02.374038",
     "exception": false,
     "start_time": "2021-04-22T15:40:02.311200",
     "status": "completed"
    },
    "tags": []
   },
   "source": [
    "The distribution remains non normal.\n",
    "\n",
    "Let's use log on \"Fare\" to normalise its distribution :"
   ]
  },
  {
   "cell_type": "code",
   "execution_count": 27,
   "metadata": {
    "execution": {
     "iopub.execute_input": "2021-04-22T15:40:02.523091Z",
     "iopub.status.busy": "2021-04-22T15:40:02.520359Z",
     "iopub.status.idle": "2021-04-22T15:40:02.634993Z",
     "shell.execute_reply": "2021-04-22T15:40:02.634426Z"
    },
    "papermill": {
     "duration": 0.199423,
     "end_time": "2021-04-22T15:40:02.635126",
     "exception": false,
     "start_time": "2021-04-22T15:40:02.435703",
     "status": "completed"
    },
    "tags": []
   },
   "outputs": [
    {
     "data": {
      "text/plain": [
       "<AxesSubplot:>"
      ]
     },
     "execution_count": 27,
     "metadata": {},
     "output_type": "execute_result"
    },
    {
     "data": {
      "image/png": "[encoded data removed]",
      "text/plain": [
       "<Figure size 432x288 with 1 Axes>"
      ]
     },
     "metadata": {
      "needs_background": "light"
     },
     "output_type": "display_data"
    }
   ],
   "source": [
    "all_data['norm_fare'] = np.log(all_data.Fare+1)\n",
    "all_data['norm_fare'].hist()"
   ]
  },
  {
   "cell_type": "markdown",
   "metadata": {
    "papermill": {
     "duration": 0.062514,
     "end_time": "2021-04-22T15:40:02.762315",
     "exception": false,
     "start_time": "2021-04-22T15:40:02.699801",
     "status": "completed"
    },
    "tags": []
   },
   "source": [
    "The distribution becomes normal.\n",
    "\n"
   ]
  },
  {
   "cell_type": "code",
   "execution_count": 28,
   "metadata": {
    "execution": {
     "iopub.execute_input": "2021-04-22T15:40:02.895210Z",
     "iopub.status.busy": "2021-04-22T15:40:02.894503Z",
     "iopub.status.idle": "2021-04-22T15:40:02.897817Z",
     "shell.execute_reply": "2021-04-22T15:40:02.897285Z"
    },
    "papermill": {
     "duration": 0.072225,
     "end_time": "2021-04-22T15:40:02.897936",
     "exception": false,
     "start_time": "2021-04-22T15:40:02.825711",
     "status": "completed"
    },
    "tags": []
   },
   "outputs": [],
   "source": [
    "all_data.Pclass = all_data.Pclass.astype(str)"
   ]
  },
  {
   "cell_type": "markdown",
   "metadata": {
    "papermill": {
     "duration": 0.062682,
     "end_time": "2021-04-22T15:40:03.024136",
     "exception": false,
     "start_time": "2021-04-22T15:40:02.961454",
     "status": "completed"
    },
    "tags": []
   },
   "source": [
    "Creation of dummy variables from categories :"
   ]
  },
  {
   "cell_type": "code",
   "execution_count": 29,
   "metadata": {
    "execution": {
     "iopub.execute_input": "2021-04-22T15:40:03.159610Z",
     "iopub.status.busy": "2021-04-22T15:40:03.155173Z",
     "iopub.status.idle": "2021-04-22T15:40:03.167888Z",
     "shell.execute_reply": "2021-04-22T15:40:03.168365Z"
    },
    "papermill": {
     "duration": 0.081427,
     "end_time": "2021-04-22T15:40:03.168534",
     "exception": false,
     "start_time": "2021-04-22T15:40:03.087107",
     "status": "completed"
    },
    "tags": []
   },
   "outputs": [],
   "source": [
    "all_dummies = pd.get_dummies(all_data[['Pclass','Sex','Age','SibSp','Parch','norm_fare','Embarked','cabin_adv','cabin_multiple','numeric_ticket','name_title','train_test']])"
   ]
  },
  {
   "cell_type": "markdown",
   "metadata": {
    "papermill": {
     "duration": 0.063252,
     "end_time": "2021-04-22T15:40:03.296572",
     "exception": false,
     "start_time": "2021-04-22T15:40:03.233320",
     "status": "completed"
    },
    "tags": []
   },
   "source": [
    "Let's split the data :"
   ]
  },
  {
   "cell_type": "code",
   "execution_count": 30,
   "metadata": {
    "execution": {
     "iopub.execute_input": "2021-04-22T15:40:03.428341Z",
     "iopub.status.busy": "2021-04-22T15:40:03.427751Z",
     "iopub.status.idle": "2021-04-22T15:40:03.436689Z",
     "shell.execute_reply": "2021-04-22T15:40:03.437081Z"
    },
    "papermill": {
     "duration": 0.07771,
     "end_time": "2021-04-22T15:40:03.437246",
     "exception": false,
     "start_time": "2021-04-22T15:40:03.359536",
     "status": "completed"
    },
    "tags": []
   },
   "outputs": [
    {
     "data": {
      "text/plain": [
       "(889,)"
      ]
     },
     "execution_count": 30,
     "metadata": {},
     "output_type": "execute_result"
    }
   ],
   "source": [
    "X_train = all_dummies[all_dummies.train_test == 1].drop(['train_test'], axis =1)\n",
    "X_test = all_dummies[all_dummies.train_test == 0].drop(['train_test'], axis =1)\n",
    "\n",
    "\n",
    "y_train = all_data[all_data.train_test==1].Survived\n",
    "y_train.shape"
   ]
  },
  {
   "cell_type": "markdown",
   "metadata": {
    "papermill": {
     "duration": 0.063006,
     "end_time": "2021-04-22T15:40:03.563530",
     "exception": false,
     "start_time": "2021-04-22T15:40:03.500524",
     "status": "completed"
    },
    "tags": []
   },
   "source": [
    "Scale data :"
   ]
  },
  {
   "cell_type": "code",
   "execution_count": 31,
   "metadata": {
    "execution": {
     "iopub.execute_input": "2021-04-22T15:40:03.699250Z",
     "iopub.status.busy": "2021-04-22T15:40:03.698535Z",
     "iopub.status.idle": "2021-04-22T15:40:03.849232Z",
     "shell.execute_reply": "2021-04-22T15:40:03.848518Z"
    },
    "papermill": {
     "duration": 0.221877,
     "end_time": "2021-04-22T15:40:03.849383",
     "exception": false,
     "start_time": "2021-04-22T15:40:03.627506",
     "status": "completed"
    },
    "tags": []
   },
   "outputs": [],
   "source": [
    "from sklearn.preprocessing import StandardScaler\n",
    "scale = StandardScaler()\n",
    "all_dummies_scaled = all_dummies.copy()\n",
    "all_dummies_scaled[['Age','SibSp','Parch','norm_fare']]= scale.fit_transform(all_dummies_scaled[['Age','SibSp','Parch','norm_fare']])\n",
    "all_dummies_scaled\n",
    "\n",
    "X_train_scaled = all_dummies_scaled[all_dummies_scaled.train_test == 1].drop(['train_test'], axis =1)\n",
    "X_test_scaled = all_dummies_scaled[all_dummies_scaled.train_test == 0].drop(['train_test'], axis =1)\n",
    "\n",
    "y_train = all_data[all_data.train_test==1].Survived"
   ]
  },
  {
   "cell_type": "markdown",
   "metadata": {
    "papermill": {
     "duration": 0.065138,
     "end_time": "2021-04-22T15:40:03.980049",
     "exception": false,
     "start_time": "2021-04-22T15:40:03.914911",
     "status": "completed"
    },
    "tags": []
   },
   "source": [
    "# Model Building\n",
    "* Naive Bayes\n",
    "* Logistic Regression\n",
    "* Decision Tree\n",
    "* K Nearest Neighbor\n",
    "* Random Forest\n",
    "* Support Vector Machine\n"
   ]
  },
  {
   "cell_type": "code",
   "execution_count": 32,
   "metadata": {
    "execution": {
     "iopub.execute_input": "2021-04-22T15:40:04.116493Z",
     "iopub.status.busy": "2021-04-22T15:40:04.115697Z",
     "iopub.status.idle": "2021-04-22T15:40:04.376338Z",
     "shell.execute_reply": "2021-04-22T15:40:04.375463Z"
    },
    "papermill": {
     "duration": 0.330591,
     "end_time": "2021-04-22T15:40:04.376487",
     "exception": false,
     "start_time": "2021-04-22T15:40:04.045896",
     "status": "completed"
    },
    "tags": []
   },
   "outputs": [],
   "source": [
    "from sklearn.model_selection import cross_val_score\n",
    "from sklearn.naive_bayes import GaussianNB\n",
    "from sklearn.linear_model import LogisticRegression\n",
    "from sklearn import tree\n",
    "from sklearn.neighbors import KNeighborsClassifier\n",
    "from sklearn.ensemble import RandomForestClassifier\n",
    "from sklearn.svm import SVC"
   ]
  },
  {
   "cell_type": "markdown",
   "metadata": {
    "papermill": {
     "duration": 0.063746,
     "end_time": "2021-04-22T15:40:04.504574",
     "exception": false,
     "start_time": "2021-04-22T15:40:04.440828",
     "status": "completed"
    },
    "tags": []
   },
   "source": [
    "### Naive Bayes "
   ]
  },
  {
   "cell_type": "code",
   "execution_count": 33,
   "metadata": {
    "execution": {
     "iopub.execute_input": "2021-04-22T15:40:04.636063Z",
     "iopub.status.busy": "2021-04-22T15:40:04.635499Z",
     "iopub.status.idle": "2021-04-22T15:40:04.670879Z",
     "shell.execute_reply": "2021-04-22T15:40:04.671403Z"
    },
    "papermill": {
     "duration": 0.10363,
     "end_time": "2021-04-22T15:40:04.671561",
     "exception": false,
     "start_time": "2021-04-22T15:40:04.567931",
     "status": "completed"
    },
    "tags": []
   },
   "outputs": [
    {
     "name": "stdout",
     "output_type": "stream",
     "text": [
      "[0.66853933 0.70224719 0.75842697 0.74719101 0.73446328]\n",
      "0.7221735542436362\n"
     ]
    }
   ],
   "source": [
    "gnb = GaussianNB()\n",
    "cv = cross_val_score(gnb,X_train_scaled,y_train,cv=5)\n",
    "print(cv)\n",
    "print(cv.mean())"
   ]
  },
  {
   "cell_type": "markdown",
   "metadata": {
    "papermill": {
     "duration": 0.063389,
     "end_time": "2021-04-22T15:40:04.798662",
     "exception": false,
     "start_time": "2021-04-22T15:40:04.735273",
     "status": "completed"
    },
    "tags": []
   },
   "source": [
    "### Logistic Regression "
   ]
  },
  {
   "cell_type": "code",
   "execution_count": 34,
   "metadata": {
    "execution": {
     "iopub.execute_input": "2021-04-22T15:40:04.930050Z",
     "iopub.status.busy": "2021-04-22T15:40:04.929134Z",
     "iopub.status.idle": "2021-04-22T15:40:05.873616Z",
     "shell.execute_reply": "2021-04-22T15:40:05.874942Z"
    },
    "papermill": {
     "duration": 1.012791,
     "end_time": "2021-04-22T15:40:05.875345",
     "exception": false,
     "start_time": "2021-04-22T15:40:04.862554",
     "status": "completed"
    },
    "tags": []
   },
   "outputs": [
    {
     "name": "stdout",
     "output_type": "stream",
     "text": [
      "[0.8258427  0.80898876 0.80337079 0.82022472 0.85310734]\n",
      "0.8223068621849807\n"
     ]
    }
   ],
   "source": [
    "lr = LogisticRegression(max_iter = 2000)\n",
    "cv = cross_val_score(lr,X_train,y_train,cv=5)\n",
    "print(cv)\n",
    "print(cv.mean())"
   ]
  },
  {
   "cell_type": "code",
   "execution_count": 35,
   "metadata": {
    "execution": {
     "iopub.execute_input": "2021-04-22T15:40:06.065090Z",
     "iopub.status.busy": "2021-04-22T15:40:06.064498Z",
     "iopub.status.idle": "2021-04-22T15:40:06.272314Z",
     "shell.execute_reply": "2021-04-22T15:40:06.273325Z"
    },
    "papermill": {
     "duration": 0.280553,
     "end_time": "2021-04-22T15:40:06.273567",
     "exception": false,
     "start_time": "2021-04-22T15:40:05.993014",
     "status": "completed"
    },
    "tags": []
   },
   "outputs": [
    {
     "name": "stdout",
     "output_type": "stream",
     "text": [
      "[0.8258427  0.80898876 0.80337079 0.82022472 0.85310734]\n",
      "0.8223068621849807\n"
     ]
    }
   ],
   "source": [
    "lr = LogisticRegression(max_iter = 2000)\n",
    "cv = cross_val_score(lr,X_train_scaled,y_train,cv=5)\n",
    "print(cv)\n",
    "print(cv.mean())"
   ]
  },
  {
   "cell_type": "markdown",
   "metadata": {
    "papermill": {
     "duration": 0.064621,
     "end_time": "2021-04-22T15:40:06.455201",
     "exception": false,
     "start_time": "2021-04-22T15:40:06.390580",
     "status": "completed"
    },
    "tags": []
   },
   "source": [
    "### Decision Tree"
   ]
  },
  {
   "cell_type": "code",
   "execution_count": 36,
   "metadata": {
    "execution": {
     "iopub.execute_input": "2021-04-22T15:40:06.591403Z",
     "iopub.status.busy": "2021-04-22T15:40:06.590503Z",
     "iopub.status.idle": "2021-04-22T15:40:06.633701Z",
     "shell.execute_reply": "2021-04-22T15:40:06.633262Z"
    },
    "papermill": {
     "duration": 0.113815,
     "end_time": "2021-04-22T15:40:06.633840",
     "exception": false,
     "start_time": "2021-04-22T15:40:06.520025",
     "status": "completed"
    },
    "tags": []
   },
   "outputs": [
    {
     "name": "stdout",
     "output_type": "stream",
     "text": [
      "[0.75842697 0.74719101 0.8258427  0.74719101 0.8079096 ]\n",
      "0.7773122579826065\n"
     ]
    }
   ],
   "source": [
    "dt = tree.DecisionTreeClassifier(random_state = 1)\n",
    "cv = cross_val_score(dt,X_train,y_train,cv=5)\n",
    "print(cv)\n",
    "print(cv.mean())"
   ]
  },
  {
   "cell_type": "code",
   "execution_count": 37,
   "metadata": {
    "execution": {
     "iopub.execute_input": "2021-04-22T15:40:06.772413Z",
     "iopub.status.busy": "2021-04-22T15:40:06.771526Z",
     "iopub.status.idle": "2021-04-22T15:40:06.816719Z",
     "shell.execute_reply": "2021-04-22T15:40:06.816145Z"
    },
    "papermill": {
     "duration": 0.116113,
     "end_time": "2021-04-22T15:40:06.816850",
     "exception": false,
     "start_time": "2021-04-22T15:40:06.700737",
     "status": "completed"
    },
    "tags": []
   },
   "outputs": [
    {
     "name": "stdout",
     "output_type": "stream",
     "text": [
      "[0.75842697 0.74719101 0.8258427  0.74719101 0.8079096 ]\n",
      "0.7773122579826065\n"
     ]
    }
   ],
   "source": [
    "dt = tree.DecisionTreeClassifier(random_state = 1)\n",
    "cv = cross_val_score(dt,X_train_scaled,y_train,cv=5)\n",
    "print(cv)\n",
    "print(cv.mean())"
   ]
  },
  {
   "cell_type": "markdown",
   "metadata": {
    "papermill": {
     "duration": 0.066157,
     "end_time": "2021-04-22T15:40:06.949168",
     "exception": false,
     "start_time": "2021-04-22T15:40:06.883011",
     "status": "completed"
    },
    "tags": []
   },
   "source": [
    "### K Nearest Neighbor "
   ]
  },
  {
   "cell_type": "code",
   "execution_count": 38,
   "metadata": {
    "execution": {
     "iopub.execute_input": "2021-04-22T15:40:07.090652Z",
     "iopub.status.busy": "2021-04-22T15:40:07.090007Z",
     "iopub.status.idle": "2021-04-22T15:40:07.213023Z",
     "shell.execute_reply": "2021-04-22T15:40:07.213814Z"
    },
    "papermill": {
     "duration": 0.196928,
     "end_time": "2021-04-22T15:40:07.214088",
     "exception": false,
     "start_time": "2021-04-22T15:40:07.017160",
     "status": "completed"
    },
    "tags": []
   },
   "outputs": [
    {
     "name": "stdout",
     "output_type": "stream",
     "text": [
      "[0.76966292 0.80337079 0.80898876 0.82022472 0.85310734]\n",
      "0.8110709071288008\n"
     ]
    }
   ],
   "source": [
    "knn = KNeighborsClassifier()\n",
    "cv = cross_val_score(knn,X_train,y_train,cv=5)\n",
    "print(cv)\n",
    "print(cv.mean())"
   ]
  },
  {
   "cell_type": "code",
   "execution_count": 39,
   "metadata": {
    "execution": {
     "iopub.execute_input": "2021-04-22T15:40:07.401333Z",
     "iopub.status.busy": "2021-04-22T15:40:07.400433Z",
     "iopub.status.idle": "2021-04-22T15:40:07.510889Z",
     "shell.execute_reply": "2021-04-22T15:40:07.511699Z"
    },
    "papermill": {
     "duration": 0.183558,
     "end_time": "2021-04-22T15:40:07.511980",
     "exception": false,
     "start_time": "2021-04-22T15:40:07.328422",
     "status": "completed"
    },
    "tags": []
   },
   "outputs": [
    {
     "name": "stdout",
     "output_type": "stream",
     "text": [
      "[0.79775281 0.79213483 0.83146067 0.79775281 0.85310734]\n",
      "0.8144416936456548\n"
     ]
    }
   ],
   "source": [
    "knn = KNeighborsClassifier()\n",
    "cv = cross_val_score(knn,X_train_scaled,y_train,cv=5)\n",
    "print(cv)\n",
    "print(cv.mean())"
   ]
  },
  {
   "cell_type": "markdown",
   "metadata": {
    "papermill": {
     "duration": 0.066312,
     "end_time": "2021-04-22T15:40:07.693188",
     "exception": false,
     "start_time": "2021-04-22T15:40:07.626876",
     "status": "completed"
    },
    "tags": []
   },
   "source": [
    "### Random Forest"
   ]
  },
  {
   "cell_type": "code",
   "execution_count": 40,
   "metadata": {
    "execution": {
     "iopub.execute_input": "2021-04-22T15:40:07.833234Z",
     "iopub.status.busy": "2021-04-22T15:40:07.832611Z",
     "iopub.status.idle": "2021-04-22T15:40:08.805878Z",
     "shell.execute_reply": "2021-04-22T15:40:08.806305Z"
    },
    "papermill": {
     "duration": 1.047189,
     "end_time": "2021-04-22T15:40:08.806479",
     "exception": false,
     "start_time": "2021-04-22T15:40:07.759290",
     "status": "completed"
    },
    "tags": []
   },
   "outputs": [
    {
     "name": "stdout",
     "output_type": "stream",
     "text": [
      "[0.80898876 0.79213483 0.84831461 0.73595506 0.82485876]\n",
      "0.8020504030978227\n"
     ]
    }
   ],
   "source": [
    "rf = RandomForestClassifier(random_state = 1)\n",
    "cv = cross_val_score(rf,X_train,y_train,cv=5)\n",
    "print(cv)\n",
    "print(cv.mean())"
   ]
  },
  {
   "cell_type": "code",
   "execution_count": 41,
   "metadata": {
    "execution": {
     "iopub.execute_input": "2021-04-22T15:40:08.947557Z",
     "iopub.status.busy": "2021-04-22T15:40:08.946666Z",
     "iopub.status.idle": "2021-04-22T15:40:09.925146Z",
     "shell.execute_reply": "2021-04-22T15:40:09.925569Z"
    },
    "papermill": {
     "duration": 1.05183,
     "end_time": "2021-04-22T15:40:09.925737",
     "exception": false,
     "start_time": "2021-04-22T15:40:08.873907",
     "status": "completed"
    },
    "tags": []
   },
   "outputs": [
    {
     "name": "stdout",
     "output_type": "stream",
     "text": [
      "[0.80337079 0.79213483 0.84831461 0.73595506 0.82485876]\n",
      "0.8009268075922046\n"
     ]
    }
   ],
   "source": [
    "rf = RandomForestClassifier(random_state = 1)\n",
    "cv = cross_val_score(rf,X_train_scaled,y_train,cv=5)\n",
    "print(cv)\n",
    "print(cv.mean())"
   ]
  },
  {
   "cell_type": "markdown",
   "metadata": {
    "papermill": {
     "duration": 0.066511,
     "end_time": "2021-04-22T15:40:10.060000",
     "exception": false,
     "start_time": "2021-04-22T15:40:09.993489",
     "status": "completed"
    },
    "tags": []
   },
   "source": [
    "### Support Vector Classifier"
   ]
  },
  {
   "cell_type": "code",
   "execution_count": 42,
   "metadata": {
    "execution": {
     "iopub.execute_input": "2021-04-22T15:40:10.200641Z",
     "iopub.status.busy": "2021-04-22T15:40:10.199751Z",
     "iopub.status.idle": "2021-04-22T15:40:10.878761Z",
     "shell.execute_reply": "2021-04-22T15:40:10.879227Z"
    },
    "papermill": {
     "duration": 0.752221,
     "end_time": "2021-04-22T15:40:10.879403",
     "exception": false,
     "start_time": "2021-04-22T15:40:10.127182",
     "status": "completed"
    },
    "tags": []
   },
   "outputs": [
    {
     "name": "stdout",
     "output_type": "stream",
     "text": [
      "[0.85393258 0.82022472 0.8258427  0.80337079 0.86440678]\n",
      "0.8335555132355742\n"
     ]
    }
   ],
   "source": [
    "svc = SVC(probability = True)\n",
    "cv = cross_val_score(svc,X_train_scaled,y_train,cv=5)\n",
    "print(cv)\n",
    "print(cv.mean())"
   ]
  },
  {
   "cell_type": "markdown",
   "metadata": {
    "papermill": {
     "duration": 0.071707,
     "end_time": "2021-04-22T15:40:11.030274",
     "exception": false,
     "start_time": "2021-04-22T15:40:10.958567",
     "status": "completed"
    },
    "tags": []
   },
   "source": [
    "### XGBoost"
   ]
  },
  {
   "cell_type": "code",
   "execution_count": 43,
   "metadata": {
    "execution": {
     "iopub.execute_input": "2021-04-22T15:40:11.176626Z",
     "iopub.status.busy": "2021-04-22T15:40:11.175831Z",
     "iopub.status.idle": "2021-04-22T15:40:12.064761Z",
     "shell.execute_reply": "2021-04-22T15:40:12.064049Z"
    },
    "papermill": {
     "duration": 0.964534,
     "end_time": "2021-04-22T15:40:12.064923",
     "exception": false,
     "start_time": "2021-04-22T15:40:11.100389",
     "status": "completed"
    },
    "tags": []
   },
   "outputs": [
    {
     "name": "stdout",
     "output_type": "stream",
     "text": [
      "[15:40:11] WARNING: ../src/learner.cc:1061: Starting in XGBoost 1.3.0, the default evaluation metric used with the objective 'binary:logistic' was changed from 'error' to 'logloss'. Explicitly set eval_metric if you'd like to restore the old behavior.\n",
      "[15:40:11] WARNING: ../src/learner.cc:1061: Starting in XGBoost 1.3.0, the default evaluation metric used with the objective 'binary:logistic' was changed from 'error' to 'logloss'. Explicitly set eval_metric if you'd like to restore the old behavior.\n",
      "[15:40:11] WARNING: ../src/learner.cc:1061: Starting in XGBoost 1.3.0, the default evaluation metric used with the objective 'binary:logistic' was changed from 'error' to 'logloss'. Explicitly set eval_metric if you'd like to restore the old behavior.\n",
      "[15:40:11] WARNING: ../src/learner.cc:1061: Starting in XGBoost 1.3.0, the default evaluation metric used with the objective 'binary:logistic' was changed from 'error' to 'logloss'. Explicitly set eval_metric if you'd like to restore the old behavior.\n",
      "[15:40:11] WARNING: ../src/learner.cc:1061: Starting in XGBoost 1.3.0, the default evaluation metric used with the objective 'binary:logistic' was changed from 'error' to 'logloss'. Explicitly set eval_metric if you'd like to restore the old behavior.\n",
      "[0.82022472 0.81460674 0.85393258 0.79775281 0.81355932]\n",
      "0.8200152351932963\n"
     ]
    }
   ],
   "source": [
    "from xgboost import XGBClassifier\n",
    "xgb = XGBClassifier(random_state =1,use_label_encoder =False)\n",
    "cv = cross_val_score(xgb,X_train_scaled,y_train,cv=5)\n",
    "print(cv)\n",
    "print(cv.mean())"
   ]
  },
  {
   "cell_type": "markdown",
   "metadata": {
    "papermill": {
     "duration": 0.070754,
     "end_time": "2021-04-22T15:40:12.217612",
     "exception": false,
     "start_time": "2021-04-22T15:40:12.146858",
     "status": "completed"
    },
    "tags": []
   },
   "source": [
    "### Voting Classifier"
   ]
  },
  {
   "cell_type": "code",
   "execution_count": 44,
   "metadata": {
    "execution": {
     "iopub.execute_input": "2021-04-22T15:40:12.362825Z",
     "iopub.status.busy": "2021-04-22T15:40:12.362189Z",
     "iopub.status.idle": "2021-04-22T15:40:12.364387Z",
     "shell.execute_reply": "2021-04-22T15:40:12.364908Z"
    },
    "papermill": {
     "duration": 0.07739,
     "end_time": "2021-04-22T15:40:12.365068",
     "exception": false,
     "start_time": "2021-04-22T15:40:12.287678",
     "status": "completed"
    },
    "tags": []
   },
   "outputs": [],
   "source": [
    "from sklearn.ensemble import VotingClassifier\n",
    "voting_clf = VotingClassifier(estimators = [('lr',lr),('knn',knn),('rf',rf),('gnb',gnb),('svc',svc),('xgb',xgb)], voting = 'soft') "
   ]
  },
  {
   "cell_type": "code",
   "execution_count": 45,
   "metadata": {
    "execution": {
     "iopub.execute_input": "2021-04-22T15:40:12.509021Z",
     "iopub.status.busy": "2021-04-22T15:40:12.508351Z",
     "iopub.status.idle": "2021-04-22T15:40:15.475788Z",
     "shell.execute_reply": "2021-04-22T15:40:15.477210Z"
    },
    "papermill": {
     "duration": 3.041466,
     "end_time": "2021-04-22T15:40:15.477469",
     "exception": false,
     "start_time": "2021-04-22T15:40:12.436003",
     "status": "completed"
    },
    "tags": []
   },
   "outputs": [
    {
     "name": "stdout",
     "output_type": "stream",
     "text": [
      "[15:40:12] WARNING: ../src/learner.cc:1061: Starting in XGBoost 1.3.0, the default evaluation metric used with the objective 'binary:logistic' was changed from 'error' to 'logloss'. Explicitly set eval_metric if you'd like to restore the old behavior.\n",
      "[15:40:13] WARNING: ../src/learner.cc:1061: Starting in XGBoost 1.3.0, the default evaluation metric used with the objective 'binary:logistic' was changed from 'error' to 'logloss'. Explicitly set eval_metric if you'd like to restore the old behavior.\n",
      "[15:40:14] WARNING: ../src/learner.cc:1061: Starting in XGBoost 1.3.0, the default evaluation metric used with the objective 'binary:logistic' was changed from 'error' to 'logloss'. Explicitly set eval_metric if you'd like to restore the old behavior.\n",
      "[15:40:14] WARNING: ../src/learner.cc:1061: Starting in XGBoost 1.3.0, the default evaluation metric used with the objective 'binary:logistic' was changed from 'error' to 'logloss'. Explicitly set eval_metric if you'd like to restore the old behavior.\n",
      "[15:40:15] WARNING: ../src/learner.cc:1061: Starting in XGBoost 1.3.0, the default evaluation metric used with the objective 'binary:logistic' was changed from 'error' to 'logloss'. Explicitly set eval_metric if you'd like to restore the old behavior.\n",
      "[0.83707865 0.81460674 0.8258427  0.79775281 0.84745763]\n",
      "0.8245477051990097\n"
     ]
    }
   ],
   "source": [
    "cv = cross_val_score(voting_clf,X_train_scaled,y_train,cv=5)\n",
    "print(cv)\n",
    "print(cv.mean())"
   ]
  },
  {
   "cell_type": "code",
   "execution_count": 46,
   "metadata": {
    "execution": {
     "iopub.execute_input": "2021-04-22T15:40:15.653067Z",
     "iopub.status.busy": "2021-04-22T15:40:15.652189Z",
     "iopub.status.idle": "2021-04-22T15:40:16.384464Z",
     "shell.execute_reply": "2021-04-22T15:40:16.383973Z"
    },
    "papermill": {
     "duration": 0.807599,
     "end_time": "2021-04-22T15:40:16.384604",
     "exception": false,
     "start_time": "2021-04-22T15:40:15.577005",
     "status": "completed"
    },
    "tags": []
   },
   "outputs": [
    {
     "name": "stdout",
     "output_type": "stream",
     "text": [
      "[15:40:16] WARNING: ../src/learner.cc:1061: Starting in XGBoost 1.3.0, the default evaluation metric used with the objective 'binary:logistic' was changed from 'error' to 'logloss'. Explicitly set eval_metric if you'd like to restore the old behavior.\n"
     ]
    }
   ],
   "source": [
    "voting_clf.fit(X_train_scaled,y_train)\n",
    "y_hat_base_vc = voting_clf.predict(X_test_scaled).astype(int)\n",
    "basic_submission = {'PassengerId': test.PassengerId, 'Survived': y_hat_base_vc}\n",
    "base_submission = pd.DataFrame(data=basic_submission)\n",
    "base_submission.to_csv('base_submission.csv', index=False)"
   ]
  },
  {
   "cell_type": "markdown",
   "metadata": {
    "papermill": {
     "duration": 0.070235,
     "end_time": "2021-04-22T15:40:16.524851",
     "exception": false,
     "start_time": "2021-04-22T15:40:16.454616",
     "status": "completed"
    },
    "tags": []
   },
   "source": [
    "# Model Tuned Performance\n",
    "Now let's see if we can improve the individual model results using **Grid Search**."
   ]
  },
  {
   "cell_type": "code",
   "execution_count": 47,
   "metadata": {
    "execution": {
     "iopub.execute_input": "2021-04-22T15:40:16.668972Z",
     "iopub.status.busy": "2021-04-22T15:40:16.668395Z",
     "iopub.status.idle": "2021-04-22T15:40:16.672525Z",
     "shell.execute_reply": "2021-04-22T15:40:16.672099Z"
    },
    "papermill": {
     "duration": 0.077776,
     "end_time": "2021-04-22T15:40:16.672651",
     "exception": false,
     "start_time": "2021-04-22T15:40:16.594875",
     "status": "completed"
    },
    "tags": []
   },
   "outputs": [],
   "source": [
    "from sklearn.model_selection import GridSearchCV \n",
    "from sklearn.model_selection import RandomizedSearchCV "
   ]
  },
  {
   "cell_type": "markdown",
   "metadata": {
    "papermill": {
     "duration": 0.069307,
     "end_time": "2021-04-22T15:40:16.811751",
     "exception": false,
     "start_time": "2021-04-22T15:40:16.742444",
     "status": "completed"
    },
    "tags": []
   },
   "source": [
    "### Function for simple performance reporting"
   ]
  },
  {
   "cell_type": "code",
   "execution_count": 48,
   "metadata": {
    "execution": {
     "iopub.execute_input": "2021-04-22T15:40:16.954644Z",
     "iopub.status.busy": "2021-04-22T15:40:16.954066Z",
     "iopub.status.idle": "2021-04-22T15:40:16.956893Z",
     "shell.execute_reply": "2021-04-22T15:40:16.956454Z"
    },
    "papermill": {
     "duration": 0.076213,
     "end_time": "2021-04-22T15:40:16.957053",
     "exception": false,
     "start_time": "2021-04-22T15:40:16.880840",
     "status": "completed"
    },
    "tags": []
   },
   "outputs": [],
   "source": [
    "def clf_performance(classifier, model_name):\n",
    "    print(model_name)\n",
    "    print('Best Score: ' + str(classifier.best_score_))\n",
    "    print('Best Parameters: ' + str(classifier.best_params_))"
   ]
  },
  {
   "cell_type": "markdown",
   "metadata": {
    "papermill": {
     "duration": 0.069319,
     "end_time": "2021-04-22T15:40:17.096743",
     "exception": false,
     "start_time": "2021-04-22T15:40:17.027424",
     "status": "completed"
    },
    "tags": []
   },
   "source": [
    "### Logistic Regression"
   ]
  },
  {
   "cell_type": "code",
   "execution_count": 49,
   "metadata": {
    "execution": {
     "iopub.execute_input": "2021-04-22T15:40:17.244552Z",
     "iopub.status.busy": "2021-04-22T15:40:17.243917Z",
     "iopub.status.idle": "2021-04-22T15:40:20.974099Z",
     "shell.execute_reply": "2021-04-22T15:40:20.974561Z"
    },
    "papermill": {
     "duration": 3.806394,
     "end_time": "2021-04-22T15:40:20.974735",
     "exception": false,
     "start_time": "2021-04-22T15:40:17.168341",
     "status": "completed"
    },
    "tags": []
   },
   "outputs": [
    {
     "name": "stdout",
     "output_type": "stream",
     "text": [
      "Fitting 5 folds for each of 40 candidates, totalling 200 fits\n",
      "Logistic Regression\n",
      "Best Score: 0.8279375357074843\n",
      "Best Parameters: {'C': 1.623776739188721, 'max_iter': 2000, 'penalty': 'l1', 'solver': 'liblinear'}\n"
     ]
    }
   ],
   "source": [
    "lr = LogisticRegression()\n",
    "param_grid = {'max_iter' : [2000],\n",
    "              'penalty' : ['l1', 'l2'],\n",
    "              'C' : np.logspace(-4, 4, 20),\n",
    "              'solver' : ['liblinear']}\n",
    "\n",
    "clf_lr = GridSearchCV(lr, param_grid = param_grid, cv = 5, verbose = True, n_jobs = -1)\n",
    "best_clf_lr = clf_lr.fit(X_train_scaled,y_train)\n",
    "clf_performance(best_clf_lr,'Logistic Regression')"
   ]
  },
  {
   "cell_type": "markdown",
   "metadata": {
    "papermill": {
     "duration": 0.070316,
     "end_time": "2021-04-22T15:40:21.117364",
     "exception": false,
     "start_time": "2021-04-22T15:40:21.047048",
     "status": "completed"
    },
    "tags": []
   },
   "source": [
    "### K Nearest Neighbors"
   ]
  },
  {
   "cell_type": "code",
   "execution_count": 50,
   "metadata": {
    "execution": {
     "iopub.execute_input": "2021-04-22T15:40:21.261050Z",
     "iopub.status.busy": "2021-04-22T15:40:21.260467Z",
     "iopub.status.idle": "2021-04-22T15:40:22.877590Z",
     "shell.execute_reply": "2021-04-22T15:40:22.877125Z"
    },
    "papermill": {
     "duration": 1.690027,
     "end_time": "2021-04-22T15:40:22.877729",
     "exception": false,
     "start_time": "2021-04-22T15:40:21.187702",
     "status": "completed"
    },
    "tags": []
   },
   "outputs": [
    {
     "name": "stdout",
     "output_type": "stream",
     "text": [
      "Fitting 5 folds for each of 48 candidates, totalling 240 fits\n",
      "KNN\n",
      "Best Score: 0.8279375357074843\n",
      "Best Parameters: {'algorithm': 'auto', 'n_neighbors': 7, 'p': 2, 'weights': 'uniform'}\n"
     ]
    }
   ],
   "source": [
    "knn = KNeighborsClassifier()\n",
    "param_grid = {'n_neighbors' : [3,5,7,9],\n",
    "              'weights' : ['uniform', 'distance'],\n",
    "              'algorithm' : ['auto', 'ball_tree','kd_tree'],\n",
    "              'p' : [1,2]}\n",
    "clf_knn = GridSearchCV(knn, param_grid = param_grid, cv = 5, verbose = True, n_jobs = -1)\n",
    "best_clf_knn = clf_knn.fit(X_train_scaled,y_train)\n",
    "clf_performance(best_clf_knn,'KNN')"
   ]
  },
  {
   "cell_type": "markdown",
   "metadata": {
    "papermill": {
     "duration": 0.085603,
     "end_time": "2021-04-22T15:40:23.060160",
     "exception": false,
     "start_time": "2021-04-22T15:40:22.974557",
     "status": "completed"
    },
    "tags": []
   },
   "source": [
    "### Support Vector Classifier"
   ]
  },
  {
   "cell_type": "code",
   "execution_count": 51,
   "metadata": {
    "execution": {
     "iopub.execute_input": "2021-04-22T15:40:23.209400Z",
     "iopub.status.busy": "2021-04-22T15:40:23.208701Z",
     "iopub.status.idle": "2021-04-22T15:40:23.214069Z",
     "shell.execute_reply": "2021-04-22T15:40:23.214535Z"
    },
    "papermill": {
     "duration": 0.080824,
     "end_time": "2021-04-22T15:40:23.214696",
     "exception": false,
     "start_time": "2021-04-22T15:40:23.133872",
     "status": "completed"
    },
    "tags": []
   },
   "outputs": [],
   "source": [
    "svc = SVC(probability = True)\n",
    "param_grid = tuned_parameters = [{'kernel': ['rbf'], 'gamma': [.1,.5,1,2,5,10],\n",
    "                                  'C': [.1, 1, 10, 100, 1000]},\n",
    "                                 {'kernel': ['linear'], 'C': [.1, 1, 10, 100, 1000]},\n",
    "                                 {'kernel': ['poly'], 'degree' : [2,3,4,5], 'C': [.1, 1, 10, 100, 1000]}]"
   ]
  },
  {
   "cell_type": "code",
   "execution_count": 52,
   "metadata": {
    "execution": {
     "iopub.execute_input": "2021-04-22T15:40:23.368230Z",
     "iopub.status.busy": "2021-04-22T15:40:23.367423Z",
     "iopub.status.idle": "2021-04-22T15:40:23.370060Z",
     "shell.execute_reply": "2021-04-22T15:40:23.370485Z"
    },
    "papermill": {
     "duration": 0.081467,
     "end_time": "2021-04-22T15:40:23.370629",
     "exception": false,
     "start_time": "2021-04-22T15:40:23.289162",
     "status": "completed"
    },
    "tags": []
   },
   "outputs": [],
   "source": [
    "clf_svc = GridSearchCV(svc, param_grid = param_grid, cv = 5, verbose = True, n_jobs = -1)"
   ]
  },
  {
   "cell_type": "code",
   "execution_count": 53,
   "metadata": {
    "execution": {
     "iopub.execute_input": "2021-04-22T15:40:23.522977Z",
     "iopub.status.busy": "2021-04-22T15:40:23.522100Z",
     "iopub.status.idle": "2021-04-22T15:44:24.130573Z",
     "shell.execute_reply": "2021-04-22T15:44:24.131039Z"
    },
    "papermill": {
     "duration": 240.686941,
     "end_time": "2021-04-22T15:44:24.131228",
     "exception": false,
     "start_time": "2021-04-22T15:40:23.444287",
     "status": "completed"
    },
    "tags": []
   },
   "outputs": [
    {
     "name": "stdout",
     "output_type": "stream",
     "text": [
      "Fitting 5 folds for each of 55 candidates, totalling 275 fits\n",
      "SVC\n",
      "Best Score: 0.8335555132355742\n",
      "Best Parameters: {'C': 1, 'gamma': 0.1, 'kernel': 'rbf'}\n"
     ]
    }
   ],
   "source": [
    "best_clf_svc = clf_svc.fit(X_train_scaled,y_train)\n",
    "clf_performance(best_clf_svc,'SVC')"
   ]
  },
  {
   "cell_type": "markdown",
   "metadata": {
    "papermill": {
     "duration": 0.07372,
     "end_time": "2021-04-22T15:44:24.278600",
     "exception": false,
     "start_time": "2021-04-22T15:44:24.204880",
     "status": "completed"
    },
    "tags": []
   },
   "source": [
    "### Random Forest "
   ]
  },
  {
   "cell_type": "code",
   "execution_count": 54,
   "metadata": {
    "execution": {
     "iopub.execute_input": "2021-04-22T15:44:24.431970Z",
     "iopub.status.busy": "2021-04-22T15:44:24.431389Z",
     "iopub.status.idle": "2021-04-22T15:44:24.434033Z",
     "shell.execute_reply": "2021-04-22T15:44:24.433601Z"
    },
    "papermill": {
     "duration": 0.081481,
     "end_time": "2021-04-22T15:44:24.434174",
     "exception": false,
     "start_time": "2021-04-22T15:44:24.352693",
     "status": "completed"
    },
    "tags": []
   },
   "outputs": [],
   "source": [
    "rf = RandomForestClassifier(random_state = 1)\n",
    "param_grid =  {'n_estimators': [400,450,500,550],\n",
    "               'criterion':['gini','entropy'],\n",
    "                                  'bootstrap': [True],\n",
    "                                  'max_depth': [15, 20, 25],\n",
    "                                  'max_features': ['auto','sqrt', 10],\n",
    "                                  'min_samples_leaf': [2,3],\n",
    "                                  'min_samples_split': [2,3]}"
   ]
  },
  {
   "cell_type": "code",
   "execution_count": 55,
   "metadata": {
    "execution": {
     "iopub.execute_input": "2021-04-22T15:44:24.583701Z",
     "iopub.status.busy": "2021-04-22T15:44:24.583155Z",
     "iopub.status.idle": "2021-04-22T15:44:24.586057Z",
     "shell.execute_reply": "2021-04-22T15:44:24.585567Z"
    },
    "papermill": {
     "duration": 0.078882,
     "end_time": "2021-04-22T15:44:24.586183",
     "exception": false,
     "start_time": "2021-04-22T15:44:24.507301",
     "status": "completed"
    },
    "tags": []
   },
   "outputs": [],
   "source": [
    "clf_rf = GridSearchCV(rf, param_grid = param_grid, cv = 5, verbose = True, n_jobs = -1)"
   ]
  },
  {
   "cell_type": "code",
   "execution_count": 56,
   "metadata": {
    "execution": {
     "iopub.execute_input": "2021-04-22T15:44:24.736095Z",
     "iopub.status.busy": "2021-04-22T15:44:24.735229Z",
     "iopub.status.idle": "2021-04-22T15:52:52.726354Z",
     "shell.execute_reply": "2021-04-22T15:52:52.726831Z"
    },
    "papermill": {
     "duration": 508.068887,
     "end_time": "2021-04-22T15:52:52.727035",
     "exception": false,
     "start_time": "2021-04-22T15:44:24.658148",
     "status": "completed"
    },
    "tags": []
   },
   "outputs": [
    {
     "name": "stdout",
     "output_type": "stream",
     "text": [
      "Fitting 5 folds for each of 288 candidates, totalling 1440 fits\n"
     ]
    }
   ],
   "source": [
    "best_clf_rf = clf_rf.fit(X_train_scaled,y_train)"
   ]
  },
  {
   "cell_type": "code",
   "execution_count": 57,
   "metadata": {
    "execution": {
     "iopub.execute_input": "2021-04-22T15:52:52.921754Z",
     "iopub.status.busy": "2021-04-22T15:52:52.921193Z",
     "iopub.status.idle": "2021-04-22T15:52:54.426042Z",
     "shell.execute_reply": "2021-04-22T15:52:54.426474Z"
    },
    "papermill": {
     "duration": 1.623939,
     "end_time": "2021-04-22T15:52:54.426637",
     "exception": false,
     "start_time": "2021-04-22T15:52:52.802698",
     "status": "completed"
    },
    "tags": []
   },
   "outputs": [
    {
     "data": {
      "text/plain": [
       "<AxesSubplot:>"
      ]
     },
     "execution_count": 57,
     "metadata": {},
     "output_type": "execute_result"
    },
    {
     "data": {
      "image/png": "[encoded data removed]",
      "text/plain": [
       "<Figure size 432x288 with 1 Axes>"
      ]
     },
     "metadata": {
      "needs_background": "light"
     },
     "output_type": "display_data"
    }
   ],
   "source": [
    "best_rf = best_clf_rf.best_estimator_.fit(X_train_scaled,y_train)\n",
    "feat_importances = pd.Series(best_rf.feature_importances_, index=X_train_scaled.columns)\n",
    "feat_importances.nlargest(20).plot(kind='barh')"
   ]
  },
  {
   "cell_type": "markdown",
   "metadata": {
    "papermill": {
     "duration": 0.075488,
     "end_time": "2021-04-22T15:52:54.575796",
     "exception": false,
     "start_time": "2021-04-22T15:52:54.500308",
     "status": "completed"
    },
    "tags": []
   },
   "source": [
    "# Model Additional Ensemble Approaches"
   ]
  },
  {
   "cell_type": "code",
   "execution_count": 58,
   "metadata": {
    "execution": {
     "iopub.execute_input": "2021-04-22T15:52:54.735981Z",
     "iopub.status.busy": "2021-04-22T15:52:54.735361Z",
     "iopub.status.idle": "2021-04-22T15:53:31.307814Z",
     "shell.execute_reply": "2021-04-22T15:53:31.308779Z"
    },
    "papermill": {
     "duration": 36.656881,
     "end_time": "2021-04-22T15:53:31.309025",
     "exception": false,
     "start_time": "2021-04-22T15:52:54.652144",
     "status": "completed"
    },
    "tags": []
   },
   "outputs": [
    {
     "name": "stdout",
     "output_type": "stream",
     "text": [
      "voting_clf_hard : [0.79213483 0.81460674 0.82022472 0.79775281 0.83615819]\n",
      "voting_clf_hard mean : 0.8121754586427983\n",
      "voting_clf_soft : [0.78651685 0.82022472 0.81460674 0.79775281 0.85310734]\n",
      "voting_clf_soft mean : 0.8155652891512728\n",
      "voting_clf_all : [0.80898876 0.83146067 0.8258427  0.80898876 0.85875706]\n",
      "voting_clf_all mean : 0.8268075922046595\n"
     ]
    }
   ],
   "source": [
    "best_lr = best_clf_lr.best_estimator_\n",
    "best_knn = best_clf_knn.best_estimator_\n",
    "best_svc = best_clf_svc.best_estimator_\n",
    "best_rf = best_clf_rf.best_estimator_\n",
    "\n",
    "voting_clf_hard = VotingClassifier(estimators = [('knn',best_knn),('rf',best_rf),('svc',best_svc)], voting = 'hard') \n",
    "voting_clf_soft = VotingClassifier(estimators = [('knn',best_knn),('rf',best_rf),('svc',best_svc)], voting = 'soft') \n",
    "voting_clf_all = VotingClassifier(estimators = [('knn',best_knn),('rf',best_rf),('svc',best_svc), ('lr', best_lr)], voting = 'soft') \n",
    "\n",
    "print('voting_clf_hard :',cross_val_score(voting_clf_hard,X_train,y_train,cv=5))\n",
    "print('voting_clf_hard mean :',cross_val_score(voting_clf_hard,X_train,y_train,cv=5).mean())\n",
    "\n",
    "print('voting_clf_soft :',cross_val_score(voting_clf_soft,X_train,y_train,cv=5))\n",
    "print('voting_clf_soft mean :',cross_val_score(voting_clf_soft,X_train,y_train,cv=5).mean())\n",
    "\n",
    "print('voting_clf_all :',cross_val_score(voting_clf_all,X_train,y_train,cv=5))\n",
    "print('voting_clf_all mean :',cross_val_score(voting_clf_all,X_train,y_train,cv=5).mean())\n",
    "\n"
   ]
  },
  {
   "cell_type": "code",
   "execution_count": 59,
   "metadata": {
    "execution": {
     "iopub.execute_input": "2021-04-22T15:53:31.467994Z",
     "iopub.status.busy": "2021-04-22T15:53:31.467436Z",
     "iopub.status.idle": "2021-04-22T15:53:49.175594Z",
     "shell.execute_reply": "2021-04-22T15:53:49.176054Z"
    },
    "papermill": {
     "duration": 17.790402,
     "end_time": "2021-04-22T15:53:49.176228",
     "exception": false,
     "start_time": "2021-04-22T15:53:31.385826",
     "status": "completed"
    },
    "tags": []
   },
   "outputs": [
    {
     "name": "stdout",
     "output_type": "stream",
     "text": [
      "Fitting 5 folds for each of 7 candidates, totalling 35 fits\n",
      "VC Weights\n",
      "Best Score: 0.83244461372437\n",
      "Best Parameters: {'weights': [2, 2, 1]}\n"
     ]
    }
   ],
   "source": [
    "params = {'weights' : [[1,1,1],[1,2,1],[1,1,2],[2,1,1],[2,2,1],[1,2,2],[2,1,2]]}\n",
    "\n",
    "vote_weight = GridSearchCV(voting_clf_soft, param_grid = params, cv = 5, verbose = True, n_jobs = -1)\n",
    "best_clf_weight = vote_weight.fit(X_train_scaled,y_train)\n",
    "clf_performance(best_clf_weight,'VC Weights')\n",
    "voting_clf_sub = best_clf_weight.best_estimator_.predict(X_test_scaled)"
   ]
  },
  {
   "cell_type": "markdown",
   "metadata": {
    "papermill": {
     "duration": 0.075996,
     "end_time": "2021-04-22T15:53:49.329264",
     "exception": false,
     "start_time": "2021-04-22T15:53:49.253268",
     "status": "completed"
    },
    "tags": []
   },
   "source": [
    "Make predictions :"
   ]
  },
  {
   "cell_type": "code",
   "execution_count": 60,
   "metadata": {
    "execution": {
     "iopub.execute_input": "2021-04-22T15:53:49.483175Z",
     "iopub.status.busy": "2021-04-22T15:53:49.482521Z",
     "iopub.status.idle": "2021-04-22T15:53:54.589238Z",
     "shell.execute_reply": "2021-04-22T15:53:54.590090Z"
    },
    "papermill": {
     "duration": 5.18568,
     "end_time": "2021-04-22T15:53:54.590356",
     "exception": false,
     "start_time": "2021-04-22T15:53:49.404676",
     "status": "completed"
    },
    "tags": []
   },
   "outputs": [],
   "source": [
    "voting_clf_hard.fit(X_train_scaled, y_train)\n",
    "voting_clf_soft.fit(X_train_scaled, y_train)\n",
    "voting_clf_all.fit(X_train_scaled, y_train)\n",
    "\n",
    "\n",
    "best_rf.fit(X_train_scaled, y_train)\n",
    "y_hat_vc_hard = voting_clf_hard.predict(X_test_scaled).astype(int)\n",
    "y_hat_rf = best_rf.predict(X_test_scaled).astype(int)\n",
    "y_hat_vc_soft =  voting_clf_soft.predict(X_test_scaled).astype(int)\n",
    "y_hat_vc_all = voting_clf_all.predict(X_test_scaled).astype(int)\n"
   ]
  },
  {
   "cell_type": "markdown",
   "metadata": {
    "papermill": {
     "duration": 0.075679,
     "end_time": "2021-04-22T15:53:54.797204",
     "exception": false,
     "start_time": "2021-04-22T15:53:54.721525",
     "status": "completed"
    },
    "tags": []
   },
   "source": [
    "Convert output to dataframe :"
   ]
  },
  {
   "cell_type": "code",
   "execution_count": 61,
   "metadata": {
    "execution": {
     "iopub.execute_input": "2021-04-22T15:53:54.962347Z",
     "iopub.status.busy": "2021-04-22T15:53:54.961671Z",
     "iopub.status.idle": "2021-04-22T15:53:54.964373Z",
     "shell.execute_reply": "2021-04-22T15:53:54.963916Z"
    },
    "papermill": {
     "duration": 0.090721,
     "end_time": "2021-04-22T15:53:54.964504",
     "exception": false,
     "start_time": "2021-04-22T15:53:54.873783",
     "status": "completed"
    },
    "tags": []
   },
   "outputs": [],
   "source": [
    "final_data = {'PassengerId': test.PassengerId, 'Survived': y_hat_rf}\n",
    "submission = pd.DataFrame(data=final_data)\n",
    "\n",
    "final_data_2 = {'PassengerId': test.PassengerId, 'Survived': y_hat_vc_hard}\n",
    "submission_2 = pd.DataFrame(data=final_data_2)\n",
    "\n",
    "final_data_3 = {'PassengerId': test.PassengerId, 'Survived': y_hat_vc_soft}\n",
    "submission_3 = pd.DataFrame(data=final_data_3)\n",
    "\n",
    "final_data_4 = {'PassengerId': test.PassengerId, 'Survived': y_hat_vc_all}\n",
    "submission_4 = pd.DataFrame(data=final_data_4)\n",
    "\n",
    "\n",
    "final_data_comp = {'PassengerId': test.PassengerId, 'Survived_vc_hard': y_hat_vc_hard, 'Survived_rf': y_hat_rf, 'Survived_vc_soft' : y_hat_vc_soft, 'Survived_vc_all' : y_hat_vc_all}\n",
    "comparison = pd.DataFrame(data=final_data_comp)"
   ]
  },
  {
   "cell_type": "markdown",
   "metadata": {
    "papermill": {
     "duration": 0.076811,
     "end_time": "2021-04-22T15:53:55.117487",
     "exception": false,
     "start_time": "2021-04-22T15:53:55.040676",
     "status": "completed"
    },
    "tags": []
   },
   "source": [
    "Track differences between outputs :"
   ]
  },
  {
   "cell_type": "code",
   "execution_count": 62,
   "metadata": {
    "execution": {
     "iopub.execute_input": "2021-04-22T15:53:55.307593Z",
     "iopub.status.busy": "2021-04-22T15:53:55.306989Z",
     "iopub.status.idle": "2021-04-22T15:53:55.309842Z",
     "shell.execute_reply": "2021-04-22T15:53:55.309413Z"
    },
    "papermill": {
     "duration": 0.114071,
     "end_time": "2021-04-22T15:53:55.309988",
     "exception": false,
     "start_time": "2021-04-22T15:53:55.195917",
     "status": "completed"
    },
    "tags": []
   },
   "outputs": [],
   "source": [
    "comparison['difference_rf_vc_hard'] = comparison.apply(lambda x: 1 if x.Survived_vc_hard != x.Survived_rf else 0, axis =1)\n",
    "comparison['difference_soft_hard'] = comparison.apply(lambda x: 1 if x.Survived_vc_hard != x.Survived_vc_soft else 0, axis =1)\n",
    "comparison['difference_hard_all'] = comparison.apply(lambda x: 1 if x.Survived_vc_all != x.Survived_vc_hard else 0, axis =1)"
   ]
  },
  {
   "cell_type": "code",
   "execution_count": 63,
   "metadata": {
    "execution": {
     "iopub.execute_input": "2021-04-22T15:53:55.467433Z",
     "iopub.status.busy": "2021-04-22T15:53:55.466793Z",
     "iopub.status.idle": "2021-04-22T15:53:55.470737Z",
     "shell.execute_reply": "2021-04-22T15:53:55.470285Z"
    },
    "papermill": {
     "duration": 0.085083,
     "end_time": "2021-04-22T15:53:55.470856",
     "exception": false,
     "start_time": "2021-04-22T15:53:55.385773",
     "status": "completed"
    },
    "tags": []
   },
   "outputs": [
    {
     "data": {
      "text/plain": [
       "0    409\n",
       "1      9\n",
       "Name: difference_hard_all, dtype: int64"
      ]
     },
     "execution_count": 63,
     "metadata": {},
     "output_type": "execute_result"
    }
   ],
   "source": [
    "comparison.difference_hard_all.value_counts()"
   ]
  },
  {
   "cell_type": "markdown",
   "metadata": {
    "papermill": {
     "duration": 0.075926,
     "end_time": "2021-04-22T15:53:55.623308",
     "exception": false,
     "start_time": "2021-04-22T15:53:55.547382",
     "status": "completed"
    },
    "tags": []
   },
   "source": [
    "Submission files :"
   ]
  },
  {
   "cell_type": "code",
   "execution_count": 64,
   "metadata": {
    "execution": {
     "iopub.execute_input": "2021-04-22T15:53:55.783080Z",
     "iopub.status.busy": "2021-04-22T15:53:55.781067Z",
     "iopub.status.idle": "2021-04-22T15:53:55.789950Z",
     "shell.execute_reply": "2021-04-22T15:53:55.789428Z"
    },
    "papermill": {
     "duration": 0.090004,
     "end_time": "2021-04-22T15:53:55.790124",
     "exception": false,
     "start_time": "2021-04-22T15:53:55.700120",
     "status": "completed"
    },
    "tags": []
   },
   "outputs": [],
   "source": [
    "submission.to_csv('submission_rf.csv', index =False)\n",
    "submission_2.to_csv('submission_vc_hard.csv',index=False)\n",
    "submission_3.to_csv('submission_vc_soft.csv', index=False)\n",
    "submission_4.to_csv('submission_vc_all.csv', index=False)"
   ]
  },
  {
   "cell_type": "markdown",
   "metadata": {
    "papermill": {
     "duration": 0.077714,
     "end_time": "2021-04-22T15:53:55.945021",
     "exception": false,
     "start_time": "2021-04-22T15:53:55.867307",
     "status": "completed"
    },
    "tags": []
   },
   "source": []
  },
  {
   "cell_type": "markdown",
   "metadata": {
    "papermill": {
     "duration": 0.076131,
     "end_time": "2021-04-22T15:53:56.411527",
     "exception": false,
     "start_time": "2021-04-22T15:53:56.335396",
     "status": "completed"
    },
    "tags": []
   },
   "source": []
  },
  {
   "cell_type": "markdown",
   "metadata": {
    "papermill": {
     "duration": 0.07675,
     "end_time": "2021-04-22T15:53:56.565238",
     "exception": false,
     "start_time": "2021-04-22T15:53:56.488488",
     "status": "completed"
    },
    "tags": []
   },
   "source": []
  },
  {
   "cell_type": "markdown",
   "metadata": {
    "papermill": {
     "duration": 0.07606,
     "end_time": "2021-04-22T15:53:56.717823",
     "exception": false,
     "start_time": "2021-04-22T15:53:56.641763",
     "status": "completed"
    },
    "tags": []
   },
   "source": []
  },
  {
   "cell_type": "markdown",
   "metadata": {
    "papermill": {
     "duration": 0.079099,
     "end_time": "2021-04-22T15:53:56.873467",
     "exception": false,
     "start_time": "2021-04-22T15:53:56.794368",
     "status": "completed"
    },
    "tags": []
   },
   "source": []
  }
 ],
 "metadata": {
  "kernelspec": {
   "display_name": "Python 3",
   "language": "python",
   "name": "python3"
  },
  "language_info": {
   "codemirror_mode": {
    "name": "ipython",
    "version": 3
   },
   "file_extension": ".py",
   "mimetype": "text/x-python",
   "name": "python",
   "nbconvert_exporter": "python",
   "pygments_lexer": "ipython3",
   "version": "3.8.3"
  },
  "papermill": {
   "default_parameters": {},
   "duration": 858.636853,
   "end_time": "2021-04-22T15:53:57.786781",
   "environment_variables": {},
   "exception": null,
   "input_path": "__notebook__.ipynb",
   "output_path": "__notebook__.ipynb",
   "parameters": {},
   "start_time": "2021-04-22T15:39:39.149928",
   "version": "2.3.2"
  }
 },
 "nbformat": 4,
 "nbformat_minor": 5
}
